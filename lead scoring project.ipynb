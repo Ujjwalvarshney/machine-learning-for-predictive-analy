{
 "cells": [
  {
   "cell_type": "code",
   "execution_count": 615,
   "metadata": {},
   "outputs": [],
   "source": [
    "import numpy as np"
   ]
  },
  {
   "cell_type": "code",
   "execution_count": 616,
   "metadata": {},
   "outputs": [],
   "source": [
    "import pandas as pd"
   ]
  },
  {
   "cell_type": "code",
   "execution_count": 617,
   "metadata": {},
   "outputs": [],
   "source": [
    "ld_train=pd.read_csv(r\"C:\\Users\\ujjawalv\\Documents\\Machine-Learning-For-Predictive-Lead-Scoring-master\\data\\train.csv\", sep=',')"
   ]
  },
  {
   "cell_type": "code",
   "execution_count": 618,
   "metadata": {},
   "outputs": [],
   "source": [
    "ld_test=pd.read_csv(r\"C:\\Users\\ujjawalv\\Documents\\Machine-Learning-For-Predictive-Lead-Scoring-master\\data\\train.csv\", sep=';')"
   ]
  },
  {
   "cell_type": "code",
   "execution_count": 619,
   "metadata": {},
   "outputs": [
    {
     "data": {
      "text/html": [
       "<div>\n",
       "<style scoped>\n",
       "    .dataframe tbody tr th:only-of-type {\n",
       "        vertical-align: middle;\n",
       "    }\n",
       "\n",
       "    .dataframe tbody tr th {\n",
       "        vertical-align: top;\n",
       "    }\n",
       "\n",
       "    .dataframe thead th {\n",
       "        text-align: right;\n",
       "    }\n",
       "</style>\n",
       "<table border=\"1\" class=\"dataframe\">\n",
       "  <thead>\n",
       "    <tr style=\"text-align: right;\">\n",
       "      <th></th>\n",
       "      <th>age</th>\n",
       "      <th>job</th>\n",
       "      <th>marital</th>\n",
       "      <th>education</th>\n",
       "      <th>default</th>\n",
       "      <th>housing</th>\n",
       "      <th>loan</th>\n",
       "      <th>contact</th>\n",
       "      <th>month</th>\n",
       "      <th>day_of_week</th>\n",
       "      <th>duration</th>\n",
       "      <th>campaign</th>\n",
       "      <th>pdays</th>\n",
       "      <th>previous</th>\n",
       "      <th>poutcome</th>\n",
       "      <th>emp.var.rate</th>\n",
       "      <th>cons.price.idx</th>\n",
       "      <th>cons.conf.idx</th>\n",
       "      <th>euribor3m</th>\n",
       "      <th>nr.employed</th>\n",
       "      <th>y</th>\n",
       "    </tr>\n",
       "  </thead>\n",
       "  <tbody>\n",
       "    <tr>\n",
       "      <td>0</td>\n",
       "      <td>25</td>\n",
       "      <td>blue-collar</td>\n",
       "      <td>single</td>\n",
       "      <td>high.school</td>\n",
       "      <td>no</td>\n",
       "      <td>yes</td>\n",
       "      <td>no</td>\n",
       "      <td>cellular</td>\n",
       "      <td>jul</td>\n",
       "      <td>mon</td>\n",
       "      <td>619</td>\n",
       "      <td>2</td>\n",
       "      <td>999</td>\n",
       "      <td>0</td>\n",
       "      <td>nonexistent</td>\n",
       "      <td>1.4</td>\n",
       "      <td>93.918</td>\n",
       "      <td>-42.7</td>\n",
       "      <td>4.962</td>\n",
       "      <td>5228.1</td>\n",
       "      <td>no</td>\n",
       "    </tr>\n",
       "    <tr>\n",
       "      <td>1</td>\n",
       "      <td>40</td>\n",
       "      <td>admin.</td>\n",
       "      <td>married</td>\n",
       "      <td>high.school</td>\n",
       "      <td>no</td>\n",
       "      <td>no</td>\n",
       "      <td>no</td>\n",
       "      <td>telephone</td>\n",
       "      <td>jun</td>\n",
       "      <td>thu</td>\n",
       "      <td>97</td>\n",
       "      <td>1</td>\n",
       "      <td>999</td>\n",
       "      <td>0</td>\n",
       "      <td>nonexistent</td>\n",
       "      <td>1.4</td>\n",
       "      <td>94.465</td>\n",
       "      <td>-41.8</td>\n",
       "      <td>4.958</td>\n",
       "      <td>5228.1</td>\n",
       "      <td>no</td>\n",
       "    </tr>\n",
       "    <tr>\n",
       "      <td>2</td>\n",
       "      <td>51</td>\n",
       "      <td>technician</td>\n",
       "      <td>married</td>\n",
       "      <td>university.degree</td>\n",
       "      <td>no</td>\n",
       "      <td>yes</td>\n",
       "      <td>no</td>\n",
       "      <td>cellular</td>\n",
       "      <td>aug</td>\n",
       "      <td>wed</td>\n",
       "      <td>512</td>\n",
       "      <td>5</td>\n",
       "      <td>999</td>\n",
       "      <td>0</td>\n",
       "      <td>nonexistent</td>\n",
       "      <td>1.4</td>\n",
       "      <td>93.444</td>\n",
       "      <td>-36.1</td>\n",
       "      <td>4.964</td>\n",
       "      <td>5228.1</td>\n",
       "      <td>yes</td>\n",
       "    </tr>\n",
       "    <tr>\n",
       "      <td>3</td>\n",
       "      <td>37</td>\n",
       "      <td>blue-collar</td>\n",
       "      <td>married</td>\n",
       "      <td>high.school</td>\n",
       "      <td>unknown</td>\n",
       "      <td>yes</td>\n",
       "      <td>no</td>\n",
       "      <td>cellular</td>\n",
       "      <td>jul</td>\n",
       "      <td>tue</td>\n",
       "      <td>423</td>\n",
       "      <td>1</td>\n",
       "      <td>999</td>\n",
       "      <td>0</td>\n",
       "      <td>nonexistent</td>\n",
       "      <td>1.4</td>\n",
       "      <td>93.918</td>\n",
       "      <td>-42.7</td>\n",
       "      <td>4.961</td>\n",
       "      <td>5228.1</td>\n",
       "      <td>no</td>\n",
       "    </tr>\n",
       "    <tr>\n",
       "      <td>4</td>\n",
       "      <td>54</td>\n",
       "      <td>housemaid</td>\n",
       "      <td>married</td>\n",
       "      <td>university.degree</td>\n",
       "      <td>unknown</td>\n",
       "      <td>yes</td>\n",
       "      <td>no</td>\n",
       "      <td>cellular</td>\n",
       "      <td>aug</td>\n",
       "      <td>thu</td>\n",
       "      <td>297</td>\n",
       "      <td>1</td>\n",
       "      <td>999</td>\n",
       "      <td>0</td>\n",
       "      <td>nonexistent</td>\n",
       "      <td>1.4</td>\n",
       "      <td>93.444</td>\n",
       "      <td>-36.1</td>\n",
       "      <td>4.963</td>\n",
       "      <td>5228.1</td>\n",
       "      <td>no</td>\n",
       "    </tr>\n",
       "  </tbody>\n",
       "</table>\n",
       "</div>"
      ],
      "text/plain": [
       "   age          job  marital          education  default housing loan  \\\n",
       "0   25  blue-collar   single        high.school       no     yes   no   \n",
       "1   40       admin.  married        high.school       no      no   no   \n",
       "2   51   technician  married  university.degree       no     yes   no   \n",
       "3   37  blue-collar  married        high.school  unknown     yes   no   \n",
       "4   54    housemaid  married  university.degree  unknown     yes   no   \n",
       "\n",
       "     contact month day_of_week  duration  campaign  pdays  previous  \\\n",
       "0   cellular   jul         mon       619         2    999         0   \n",
       "1  telephone   jun         thu        97         1    999         0   \n",
       "2   cellular   aug         wed       512         5    999         0   \n",
       "3   cellular   jul         tue       423         1    999         0   \n",
       "4   cellular   aug         thu       297         1    999         0   \n",
       "\n",
       "      poutcome  emp.var.rate  cons.price.idx  cons.conf.idx  euribor3m  \\\n",
       "0  nonexistent           1.4          93.918          -42.7      4.962   \n",
       "1  nonexistent           1.4          94.465          -41.8      4.958   \n",
       "2  nonexistent           1.4          93.444          -36.1      4.964   \n",
       "3  nonexistent           1.4          93.918          -42.7      4.961   \n",
       "4  nonexistent           1.4          93.444          -36.1      4.963   \n",
       "\n",
       "   nr.employed    y  \n",
       "0       5228.1   no  \n",
       "1       5228.1   no  \n",
       "2       5228.1  yes  \n",
       "3       5228.1   no  \n",
       "4       5228.1   no  "
      ]
     },
     "execution_count": 619,
     "metadata": {},
     "output_type": "execute_result"
    }
   ],
   "source": [
    "ld_train.head()"
   ]
  },
  {
   "cell_type": "code",
   "execution_count": 620,
   "metadata": {},
   "outputs": [],
   "source": [
    "ld_test[\"y\"]=np.nan"
   ]
  },
  {
   "cell_type": "code",
   "execution_count": 621,
   "metadata": {},
   "outputs": [
    {
     "name": "stdout",
     "output_type": "stream",
     "text": [
      "<class 'pandas.core.frame.DataFrame'>\n",
      "RangeIndex: 32950 entries, 0 to 32949\n",
      "Data columns (total 21 columns):\n",
      "age               32950 non-null int64\n",
      "job               32950 non-null object\n",
      "marital           32950 non-null object\n",
      "education         32950 non-null object\n",
      "default           32950 non-null object\n",
      "housing           32950 non-null object\n",
      "loan              32950 non-null object\n",
      "contact           32950 non-null object\n",
      "month             32950 non-null object\n",
      "day_of_week       32950 non-null object\n",
      "duration          32950 non-null int64\n",
      "campaign          32950 non-null int64\n",
      "pdays             32950 non-null int64\n",
      "previous          32950 non-null int64\n",
      "poutcome          32950 non-null object\n",
      "emp.var.rate      32950 non-null float64\n",
      "cons.price.idx    32950 non-null float64\n",
      "cons.conf.idx     32950 non-null float64\n",
      "euribor3m         32950 non-null float64\n",
      "nr.employed       32950 non-null float64\n",
      "y                 32950 non-null object\n",
      "dtypes: float64(5), int64(5), object(11)\n",
      "memory usage: 5.3+ MB\n"
     ]
    }
   ],
   "source": [
    "ld_train.info()"
   ]
  },
  {
   "cell_type": "code",
   "execution_count": 622,
   "metadata": {},
   "outputs": [
    {
     "data": {
      "text/plain": [
       "[('age', dtype('int64'), 78),\n",
       " ('job', dtype('O'), 12),\n",
       " ('marital', dtype('O'), 4),\n",
       " ('education', dtype('O'), 8),\n",
       " ('default', dtype('O'), 3),\n",
       " ('housing', dtype('O'), 3),\n",
       " ('loan', dtype('O'), 3),\n",
       " ('contact', dtype('O'), 2),\n",
       " ('month', dtype('O'), 10),\n",
       " ('day_of_week', dtype('O'), 5),\n",
       " ('duration', dtype('int64'), 1476),\n",
       " ('campaign', dtype('int64'), 40),\n",
       " ('pdays', dtype('int64'), 27),\n",
       " ('previous', dtype('int64'), 8),\n",
       " ('poutcome', dtype('O'), 3),\n",
       " ('emp.var.rate', dtype('float64'), 10),\n",
       " ('cons.price.idx', dtype('float64'), 26),\n",
       " ('cons.conf.idx', dtype('float64'), 26),\n",
       " ('euribor3m', dtype('float64'), 312),\n",
       " ('nr.employed', dtype('float64'), 11),\n",
       " ('y', dtype('O'), 2)]"
      ]
     },
     "execution_count": 622,
     "metadata": {},
     "output_type": "execute_result"
    }
   ],
   "source": [
    "list(zip(ld_train.columns,ld_train.dtypes,ld_train.nunique()))"
   ]
  },
  {
   "cell_type": "code",
   "execution_count": 623,
   "metadata": {},
   "outputs": [],
   "source": [
    "import matplotlib.pyplot as plt\n",
    "import seaborn as sns"
   ]
  },
  {
   "cell_type": "code",
   "execution_count": 624,
   "metadata": {},
   "outputs": [
    {
     "name": "stdout",
     "output_type": "stream",
     "text": [
      "Numeric:\n",
      " ['age' 'campaign' 'pdays' 'previous' 'emp.var.rate' 'cons.price.idx'\n",
      " 'cons.conf.idx' 'euribor3m' 'nr.employed']\n",
      "Categorical:\n",
      " ['job' 'marital' 'education' 'default' 'housing' 'loan' 'contact' 'month'\n",
      " 'day_of_week' 'poutcome']\n"
     ]
    }
   ],
   "source": [
    "dtypes = pd.DataFrame(ld_train.dtypes.rename('type')).reset_index().astype('str')\n",
    "# Exclude duration since it is a leaky variable\n",
    "dtypes = dtypes.query('index != \"duration\"')\n",
    "numeric = dtypes[(dtypes.type.isin(['int64', 'float64'])) & (dtypes['index'] != 'duration')]['index'].values\n",
    "categorical = dtypes[~(dtypes['index'].isin(numeric)) & (dtypes['index'] != 'y')]['index'].values\n",
    "\n",
    "print('Numeric:\\n', numeric)\n",
    "print('Categorical:\\n', categorical)"
   ]
  },
  {
   "cell_type": "code",
   "execution_count": 625,
   "metadata": {},
   "outputs": [
    {
     "data": {
      "image/png": "[encoded data removed]",
      "text/plain": [
       "<Figure size 432x288 with 1 Axes>"
      ]
     },
     "metadata": {
      "needs_background": "light"
     },
     "output_type": "display_data"
    },
    {
     "data": {
      "image/png": "[encoded data removed]",
      "text/plain": [
       "<Figure size 432x288 with 1 Axes>"
      ]
     },
     "metadata": {
      "needs_background": "light"
     },
     "output_type": "display_data"
    },
    {
     "data": {
      "image/png": "[encoded data removed]",
      "text/plain": [
       "<Figure size 432x288 with 1 Axes>"
      ]
     },
     "metadata": {
      "needs_background": "light"
     },
     "output_type": "display_data"
    },
    {
     "data": {
      "image/png": "[encoded data removed]",
      "text/plain": [
       "<Figure size 432x288 with 1 Axes>"
      ]
     },
     "metadata": {
      "needs_background": "light"
     },
     "output_type": "display_data"
    },
    {
     "data": {
      "image/png": "[encoded data removed]",
      "text/plain": [
       "<Figure size 432x288 with 1 Axes>"
      ]
     },
     "metadata": {
      "needs_background": "light"
     },
     "output_type": "display_data"
    },
    {
     "data": {
      "image/png": "[encoded data removed]",
      "text/plain": [
       "<Figure size 432x288 with 1 Axes>"
      ]
     },
     "metadata": {
      "needs_background": "light"
     },
     "output_type": "display_data"
    },
    {
     "data": {
      "image/png": "[encoded data removed]",
      "text/plain": [
       "<Figure size 432x288 with 1 Axes>"
      ]
     },
     "metadata": {
      "needs_background": "light"
     },
     "output_type": "display_data"
    },
    {
     "data": {
      "image/png": "[encoded data removed]",
      "text/plain": [
       "<Figure size 432x288 with 1 Axes>"
      ]
     },
     "metadata": {
      "needs_background": "light"
     },
     "output_type": "display_data"
    },
    {
     "data": {
      "image/png": "[encoded data removed]",
      "text/plain": [
       "<Figure size 432x288 with 1 Axes>"
      ]
     },
     "metadata": {
      "needs_background": "light"
     },
     "output_type": "display_data"
    },
    {
     "data": {
      "image/png": "[encoded data removed]",
      "text/plain": [
       "<Figure size 432x288 with 1 Axes>"
      ]
     },
     "metadata": {
      "needs_background": "light"
     },
     "output_type": "display_data"
    }
   ],
   "source": [
    "for attr in categorical:\n",
    "  plt.figure()\n",
    "  ld_train[attr].value_counts().plot(kind='bar', color='steelblue');\n",
    "  plt.title(attr);"
   ]
  },
  {
   "cell_type": "code",
   "execution_count": 626,
   "metadata": {},
   "outputs": [
    {
     "name": "stdout",
     "output_type": "stream",
     "text": [
      "Support (job)\n",
      "\n",
      "admin.           8279\n",
      "blue-collar      7430\n",
      "technician       5419\n",
      "services         3155\n",
      "management       2351\n",
      "retired          1362\n",
      "entrepreneur     1173\n",
      "self-employed    1162\n",
      "housemaid         861\n",
      "unemployed        800\n",
      "student           697\n",
      "unknown           261\n",
      "Name: job, dtype: int64 \n",
      "\n",
      "Support (marital)\n",
      "\n",
      "married     19925\n",
      "single       9287\n",
      "divorced     3668\n",
      "unknown        70\n",
      "Name: marital, dtype: int64 \n",
      "\n",
      "Support (education)\n",
      "\n",
      "university.degree      9722\n",
      "high.school            7546\n",
      "basic.9y               4860\n",
      "professional.course    4234\n",
      "basic.4y               3365\n",
      "basic.6y               1815\n",
      "unknown                1393\n",
      "illiterate               15\n",
      "Name: education, dtype: int64 \n",
      "\n",
      "Support (default)\n",
      "\n",
      "no         26089\n",
      "unknown     6858\n",
      "yes            3\n",
      "Name: default, dtype: int64 \n",
      "\n",
      "Support (housing)\n",
      "\n",
      "yes        17259\n",
      "no         14906\n",
      "unknown      785\n",
      "Name: housing, dtype: int64 \n",
      "\n",
      "Support (loan)\n",
      "\n",
      "no         27203\n",
      "yes         4962\n",
      "unknown      785\n",
      "Name: loan, dtype: int64 \n",
      "\n",
      "Support (contact)\n",
      "\n",
      "cellular     20924\n",
      "telephone    12026\n",
      "Name: contact, dtype: int64 \n",
      "\n",
      "Support (month)\n",
      "\n",
      "may    11055\n",
      "jul     5719\n",
      "aug     4973\n",
      "jun     4202\n",
      "nov     3268\n",
      "apr     2085\n",
      "oct      596\n",
      "sep      460\n",
      "mar      440\n",
      "dec      152\n",
      "Name: month, dtype: int64 \n",
      "\n",
      "Support (day_of_week)\n",
      "\n",
      "thu    6911\n",
      "mon    6813\n",
      "tue    6500\n",
      "wed    6485\n",
      "fri    6241\n",
      "Name: day_of_week, dtype: int64 \n",
      "\n",
      "Support (poutcome)\n",
      "\n",
      "nonexistent    28475\n",
      "failure         3375\n",
      "success         1100\n",
      "Name: poutcome, dtype: int64 \n",
      "\n"
     ]
    },
    {
     "data": {
      "image/png": "[encoded data removed]",
      "text/plain": [
       "<Figure size 864x288 with 2 Axes>"
      ]
     },
     "metadata": {
      "needs_background": "light"
     },
     "output_type": "display_data"
    },
    {
     "data": {
      "image/png": "[encoded data removed]",
      "text/plain": [
       "<Figure size 864x288 with 2 Axes>"
      ]
     },
     "metadata": {
      "needs_background": "light"
     },
     "output_type": "display_data"
    },
    {
     "data": {
      "image/png": "[encoded data removed]",
      "text/plain": [
       "<Figure size 864x288 with 2 Axes>"
      ]
     },
     "metadata": {
      "needs_background": "light"
     },
     "output_type": "display_data"
    },
    {
     "data": {
      "image/png": "[encoded data removed]",
      "text/plain": [
       "<Figure size 864x288 with 2 Axes>"
      ]
     },
     "metadata": {
      "needs_background": "light"
     },
     "output_type": "display_data"
    },
    {
     "data": {
      "image/png": "[encoded data removed]",
      "text/plain": [
       "<Figure size 864x288 with 2 Axes>"
      ]
     },
     "metadata": {
      "needs_background": "light"
     },
     "output_type": "display_data"
    },
    {
     "data": {
      "image/png": "[encoded data removed]",
      "text/plain": [
       "<Figure size 864x288 with 2 Axes>"
      ]
     },
     "metadata": {
      "needs_background": "light"
     },
     "output_type": "display_data"
    },
    {
     "data": {
      "image/png": "[encoded data removed]",
      "text/plain": [
       "<Figure size 864x288 with 2 Axes>"
      ]
     },
     "metadata": {
      "needs_background": "light"
     },
     "output_type": "display_data"
    },
    {
     "data": {
      "image/png": "[encoded data removed]",
      "text/plain": [
       "<Figure size 864x288 with 2 Axes>"
      ]
     },
     "metadata": {
      "needs_background": "light"
     },
     "output_type": "display_data"
    },
    {
     "data": {
      "image/png": "[encoded data removed]",
      "text/plain": [
       "<Figure size 864x288 with 2 Axes>"
      ]
     },
     "metadata": {
      "needs_background": "light"
     },
     "output_type": "display_data"
    },
    {
     "data": {
      "image/png": "[encoded data removed]",
      "text/plain": [
       "<Figure size 864x288 with 2 Axes>"
      ]
     },
     "metadata": {
      "needs_background": "light"
     },
     "output_type": "display_data"
    }
   ],
   "source": [
    "for attr in categorical:\n",
    "  fig, (ax1, ax2) = plt.subplots(1, 2, figsize=(12,4))\n",
    "  outcome_counts = ld_train.groupby([attr, 'y']).size().rename('count').reset_index()\n",
    "  by_outcome = outcome_counts.pivot(columns='y', values='count', index=attr)\n",
    "  # Plot the proportions\n",
    "  by_outcome.div(by_outcome.sum(1), axis=0).plot.bar(stacked=True, ax=ax1);\n",
    "  # Plot the counts\n",
    "  ld_train[attr].value_counts().plot.bar(ax=ax2, legend=False,color='steelblue');\n",
    "  print('Support (%s)\\n' % attr)\n",
    "  print(ld_train[attr].value_counts(), '\\n')\n",
    "  plt.title(attr);"
   ]
  },
  {
   "cell_type": "code",
   "execution_count": 627,
   "metadata": {},
   "outputs": [
    {
     "name": "stdout",
     "output_type": "stream",
     "text": [
      "Number of records: 32950\n",
      "Success Rate (Current Campaign): 0.11265553869499241\n",
      "Success Rate (Previous Campaign): 0.24581005586592178\n"
     ]
    }
   ],
   "source": [
    "#Calculate current and previous campaign success rates\n",
    "poutcomes = ld_train[ld_train.poutcome != 'nonexistent'].poutcome.apply(lambda x: 1 if x == 'success' else 0)\n",
    "coutcomes = ld_train.y.apply(lambda x: 1 if x == 'yes' else 0)\n",
    "\n",
    "print('Number of records:', len(ld_train))\n",
    "print('Success Rate (Current Campaign):', coutcomes.sum() / len(ld_train))\n",
    "print('Success Rate (Previous Campaign):', poutcomes.sum() / len(poutcomes))"
   ]
  },
  {
   "cell_type": "code",
   "execution_count": 628,
   "metadata": {},
   "outputs": [
    {
     "data": {
      "text/html": [
       "<div>\n",
       "<style scoped>\n",
       "    .dataframe tbody tr th:only-of-type {\n",
       "        vertical-align: middle;\n",
       "    }\n",
       "\n",
       "    .dataframe tbody tr th {\n",
       "        vertical-align: top;\n",
       "    }\n",
       "\n",
       "    .dataframe thead th {\n",
       "        text-align: right;\n",
       "    }\n",
       "</style>\n",
       "<table border=\"1\" class=\"dataframe\">\n",
       "  <thead>\n",
       "    <tr style=\"text-align: right;\">\n",
       "      <th></th>\n",
       "      <th>marital</th>\n",
       "      <th>y</th>\n",
       "      <th>rate</th>\n",
       "    </tr>\n",
       "  </thead>\n",
       "  <tbody>\n",
       "    <tr>\n",
       "      <td>1</td>\n",
       "      <td>divorced</td>\n",
       "      <td>yes</td>\n",
       "      <td>0.101145</td>\n",
       "    </tr>\n",
       "    <tr>\n",
       "      <td>3</td>\n",
       "      <td>married</td>\n",
       "      <td>yes</td>\n",
       "      <td>0.101782</td>\n",
       "    </tr>\n",
       "    <tr>\n",
       "      <td>5</td>\n",
       "      <td>single</td>\n",
       "      <td>yes</td>\n",
       "      <td>0.140519</td>\n",
       "    </tr>\n",
       "    <tr>\n",
       "      <td>7</td>\n",
       "      <td>unknown</td>\n",
       "      <td>yes</td>\n",
       "      <td>0.114286</td>\n",
       "    </tr>\n",
       "  </tbody>\n",
       "</table>\n",
       "</div>"
      ],
      "text/plain": [
       "    marital    y      rate\n",
       "1  divorced  yes  0.101145\n",
       "3   married  yes  0.101782\n",
       "5    single  yes  0.140519\n",
       "7   unknown  yes  0.114286"
      ]
     },
     "execution_count": 628,
     "metadata": {},
     "output_type": "execute_result"
    }
   ],
   "source": [
    "# coversion according to maratial status\n",
    "marital_resp_rates = (ld_train.groupby('marital').y.value_counts() / ld_train.groupby('marital').size()).rename('rate').reset_index()\n",
    "marital_pos_rates = marital_resp_rates.query('y == \"yes\"')\n",
    "marital_pos_rates"
   ]
  },
  {
   "cell_type": "code",
   "execution_count": 629,
   "metadata": {},
   "outputs": [
    {
     "data": {
      "text/html": [
       "<div>\n",
       "<style scoped>\n",
       "    .dataframe tbody tr th:only-of-type {\n",
       "        vertical-align: middle;\n",
       "    }\n",
       "\n",
       "    .dataframe tbody tr th {\n",
       "        vertical-align: top;\n",
       "    }\n",
       "\n",
       "    .dataframe thead th {\n",
       "        text-align: right;\n",
       "    }\n",
       "</style>\n",
       "<table border=\"1\" class=\"dataframe\">\n",
       "  <thead>\n",
       "    <tr style=\"text-align: right;\">\n",
       "      <th></th>\n",
       "      <th>housing</th>\n",
       "      <th>y</th>\n",
       "      <th>rate</th>\n",
       "    </tr>\n",
       "  </thead>\n",
       "  <tbody>\n",
       "    <tr>\n",
       "      <td>1</td>\n",
       "      <td>no</td>\n",
       "      <td>yes</td>\n",
       "      <td>0.108480</td>\n",
       "    </tr>\n",
       "    <tr>\n",
       "      <td>3</td>\n",
       "      <td>unknown</td>\n",
       "      <td>yes</td>\n",
       "      <td>0.099363</td>\n",
       "    </tr>\n",
       "    <tr>\n",
       "      <td>5</td>\n",
       "      <td>yes</td>\n",
       "      <td>yes</td>\n",
       "      <td>0.116867</td>\n",
       "    </tr>\n",
       "  </tbody>\n",
       "</table>\n",
       "</div>"
      ],
      "text/plain": [
       "   housing    y      rate\n",
       "1       no  yes  0.108480\n",
       "3  unknown  yes  0.099363\n",
       "5      yes  yes  0.116867"
      ]
     },
     "execution_count": 629,
     "metadata": {},
     "output_type": "execute_result"
    }
   ],
   "source": [
    "# conversion of that they have house or not\n",
    "house_resp_rates = (ld_train.groupby('housing').y.value_counts() / ld_train.groupby('housing').size()).rename('rate').reset_index()\n",
    "house_pos_rates = house_resp_rates.query('y == \"yes\"')\n",
    "house_pos_rates"
   ]
  },
  {
   "cell_type": "code",
   "execution_count": 630,
   "metadata": {},
   "outputs": [
    {
     "data": {
      "text/html": [
       "<div>\n",
       "<style scoped>\n",
       "    .dataframe tbody tr th:only-of-type {\n",
       "        vertical-align: middle;\n",
       "    }\n",
       "\n",
       "    .dataframe tbody tr th {\n",
       "        vertical-align: top;\n",
       "    }\n",
       "\n",
       "    .dataframe thead th {\n",
       "        text-align: right;\n",
       "    }\n",
       "</style>\n",
       "<table border=\"1\" class=\"dataframe\">\n",
       "  <thead>\n",
       "    <tr style=\"text-align: right;\">\n",
       "      <th></th>\n",
       "      <th>housing</th>\n",
       "      <th>y</th>\n",
       "      <th>rate</th>\n",
       "    </tr>\n",
       "  </thead>\n",
       "  <tbody>\n",
       "    <tr>\n",
       "      <td>1</td>\n",
       "      <td>no</td>\n",
       "      <td>yes</td>\n",
       "      <td>0.108480</td>\n",
       "    </tr>\n",
       "    <tr>\n",
       "      <td>3</td>\n",
       "      <td>unknown</td>\n",
       "      <td>yes</td>\n",
       "      <td>0.099363</td>\n",
       "    </tr>\n",
       "    <tr>\n",
       "      <td>5</td>\n",
       "      <td>yes</td>\n",
       "      <td>yes</td>\n",
       "      <td>0.116867</td>\n",
       "    </tr>\n",
       "  </tbody>\n",
       "</table>\n",
       "</div>"
      ],
      "text/plain": [
       "   housing    y      rate\n",
       "1       no  yes  0.108480\n",
       "3  unknown  yes  0.099363\n",
       "5      yes  yes  0.116867"
      ]
     },
     "execution_count": 630,
     "metadata": {},
     "output_type": "execute_result"
    }
   ],
   "source": [
    "# conversion according to contact\n",
    "contact_resp_rates = (ld_train.groupby('contact').y.value_counts() / ld_train.groupby('contact').size()).rename('rate').reset_index()\n",
    "contact_pos_rates = house_resp_rates.query('y == \"yes\"')\n",
    "contact_pos_rates"
   ]
  },
  {
   "cell_type": "code",
   "execution_count": 631,
   "metadata": {},
   "outputs": [
    {
     "data": {
      "text/html": [
       "<div>\n",
       "<style scoped>\n",
       "    .dataframe tbody tr th:only-of-type {\n",
       "        vertical-align: middle;\n",
       "    }\n",
       "\n",
       "    .dataframe tbody tr th {\n",
       "        vertical-align: top;\n",
       "    }\n",
       "\n",
       "    .dataframe thead th {\n",
       "        text-align: right;\n",
       "    }\n",
       "</style>\n",
       "<table border=\"1\" class=\"dataframe\">\n",
       "  <thead>\n",
       "    <tr style=\"text-align: right;\">\n",
       "      <th></th>\n",
       "      <th>job</th>\n",
       "      <th>y</th>\n",
       "      <th>rate</th>\n",
       "    </tr>\n",
       "  </thead>\n",
       "  <tbody>\n",
       "    <tr>\n",
       "      <td>1</td>\n",
       "      <td>admin.</td>\n",
       "      <td>yes</td>\n",
       "      <td>0.129363</td>\n",
       "    </tr>\n",
       "    <tr>\n",
       "      <td>3</td>\n",
       "      <td>blue-collar</td>\n",
       "      <td>yes</td>\n",
       "      <td>0.068237</td>\n",
       "    </tr>\n",
       "    <tr>\n",
       "      <td>5</td>\n",
       "      <td>entrepreneur</td>\n",
       "      <td>yes</td>\n",
       "      <td>0.083546</td>\n",
       "    </tr>\n",
       "    <tr>\n",
       "      <td>7</td>\n",
       "      <td>housemaid</td>\n",
       "      <td>yes</td>\n",
       "      <td>0.099884</td>\n",
       "    </tr>\n",
       "    <tr>\n",
       "      <td>9</td>\n",
       "      <td>management</td>\n",
       "      <td>yes</td>\n",
       "      <td>0.113143</td>\n",
       "    </tr>\n",
       "    <tr>\n",
       "      <td>11</td>\n",
       "      <td>retired</td>\n",
       "      <td>yes</td>\n",
       "      <td>0.262115</td>\n",
       "    </tr>\n",
       "    <tr>\n",
       "      <td>13</td>\n",
       "      <td>self-employed</td>\n",
       "      <td>yes</td>\n",
       "      <td>0.100688</td>\n",
       "    </tr>\n",
       "    <tr>\n",
       "      <td>15</td>\n",
       "      <td>services</td>\n",
       "      <td>yes</td>\n",
       "      <td>0.081458</td>\n",
       "    </tr>\n",
       "    <tr>\n",
       "      <td>17</td>\n",
       "      <td>student</td>\n",
       "      <td>yes</td>\n",
       "      <td>0.308465</td>\n",
       "    </tr>\n",
       "    <tr>\n",
       "      <td>19</td>\n",
       "      <td>technician</td>\n",
       "      <td>yes</td>\n",
       "      <td>0.109983</td>\n",
       "    </tr>\n",
       "    <tr>\n",
       "      <td>21</td>\n",
       "      <td>unemployed</td>\n",
       "      <td>yes</td>\n",
       "      <td>0.142500</td>\n",
       "    </tr>\n",
       "    <tr>\n",
       "      <td>23</td>\n",
       "      <td>unknown</td>\n",
       "      <td>yes</td>\n",
       "      <td>0.107280</td>\n",
       "    </tr>\n",
       "  </tbody>\n",
       "</table>\n",
       "</div>"
      ],
      "text/plain": [
       "              job    y      rate\n",
       "1          admin.  yes  0.129363\n",
       "3     blue-collar  yes  0.068237\n",
       "5    entrepreneur  yes  0.083546\n",
       "7       housemaid  yes  0.099884\n",
       "9      management  yes  0.113143\n",
       "11        retired  yes  0.262115\n",
       "13  self-employed  yes  0.100688\n",
       "15       services  yes  0.081458\n",
       "17        student  yes  0.308465\n",
       "19     technician  yes  0.109983\n",
       "21     unemployed  yes  0.142500\n",
       "23        unknown  yes  0.107280"
      ]
     },
     "execution_count": 631,
     "metadata": {},
     "output_type": "execute_result"
    }
   ],
   "source": [
    "# conversion regarding job\n",
    "job_resp_rates = (ld_train.groupby('job').y.value_counts() / ld_train.groupby('job').size()).rename('rate').reset_index()\n",
    "job_pos_rates = job_resp_rates.query('y == \"yes\"')\n",
    "job_pos_rates"
   ]
  },
  {
   "cell_type": "code",
   "execution_count": 632,
   "metadata": {},
   "outputs": [
    {
     "data": {
      "text/html": [
       "<div>\n",
       "<style scoped>\n",
       "    .dataframe tbody tr th:only-of-type {\n",
       "        vertical-align: middle;\n",
       "    }\n",
       "\n",
       "    .dataframe tbody tr th {\n",
       "        vertical-align: top;\n",
       "    }\n",
       "\n",
       "    .dataframe thead th {\n",
       "        text-align: right;\n",
       "    }\n",
       "</style>\n",
       "<table border=\"1\" class=\"dataframe\">\n",
       "  <thead>\n",
       "    <tr style=\"text-align: right;\">\n",
       "      <th></th>\n",
       "      <th>education</th>\n",
       "      <th>y</th>\n",
       "      <th>rate</th>\n",
       "    </tr>\n",
       "  </thead>\n",
       "  <tbody>\n",
       "    <tr>\n",
       "      <td>1</td>\n",
       "      <td>basic.4y</td>\n",
       "      <td>yes</td>\n",
       "      <td>0.102229</td>\n",
       "    </tr>\n",
       "    <tr>\n",
       "      <td>3</td>\n",
       "      <td>basic.6y</td>\n",
       "      <td>yes</td>\n",
       "      <td>0.079339</td>\n",
       "    </tr>\n",
       "    <tr>\n",
       "      <td>5</td>\n",
       "      <td>basic.9y</td>\n",
       "      <td>yes</td>\n",
       "      <td>0.078807</td>\n",
       "    </tr>\n",
       "    <tr>\n",
       "      <td>7</td>\n",
       "      <td>high.school</td>\n",
       "      <td>yes</td>\n",
       "      <td>0.109462</td>\n",
       "    </tr>\n",
       "    <tr>\n",
       "      <td>9</td>\n",
       "      <td>illiterate</td>\n",
       "      <td>yes</td>\n",
       "      <td>0.200000</td>\n",
       "    </tr>\n",
       "    <tr>\n",
       "      <td>11</td>\n",
       "      <td>professional.course</td>\n",
       "      <td>yes</td>\n",
       "      <td>0.113604</td>\n",
       "    </tr>\n",
       "    <tr>\n",
       "      <td>13</td>\n",
       "      <td>university.degree</td>\n",
       "      <td>yes</td>\n",
       "      <td>0.136906</td>\n",
       "    </tr>\n",
       "    <tr>\n",
       "      <td>15</td>\n",
       "      <td>unknown</td>\n",
       "      <td>yes</td>\n",
       "      <td>0.143575</td>\n",
       "    </tr>\n",
       "  </tbody>\n",
       "</table>\n",
       "</div>"
      ],
      "text/plain": [
       "              education    y      rate\n",
       "1              basic.4y  yes  0.102229\n",
       "3              basic.6y  yes  0.079339\n",
       "5              basic.9y  yes  0.078807\n",
       "7           high.school  yes  0.109462\n",
       "9            illiterate  yes  0.200000\n",
       "11  professional.course  yes  0.113604\n",
       "13    university.degree  yes  0.136906\n",
       "15              unknown  yes  0.143575"
      ]
     },
     "execution_count": 632,
     "metadata": {},
     "output_type": "execute_result"
    }
   ],
   "source": [
    "# conversion regarding education\n",
    "education_resp_rates = (ld_train.groupby(\"education\").y.value_counts() / ld_train.groupby('education').size()).rename('rate').reset_index()\n",
    "education_pos_rates = education_resp_rates.query('y == \"yes\"')\n",
    "education_pos_rates"
   ]
  },
  {
   "cell_type": "code",
   "execution_count": 633,
   "metadata": {},
   "outputs": [
    {
     "data": {
      "text/html": [
       "<div>\n",
       "<style scoped>\n",
       "    .dataframe tbody tr th:only-of-type {\n",
       "        vertical-align: middle;\n",
       "    }\n",
       "\n",
       "    .dataframe tbody tr th {\n",
       "        vertical-align: top;\n",
       "    }\n",
       "\n",
       "    .dataframe thead th {\n",
       "        text-align: right;\n",
       "    }\n",
       "</style>\n",
       "<table border=\"1\" class=\"dataframe\">\n",
       "  <thead>\n",
       "    <tr style=\"text-align: right;\">\n",
       "      <th></th>\n",
       "      <th>loan</th>\n",
       "      <th>y</th>\n",
       "      <th>rate</th>\n",
       "    </tr>\n",
       "  </thead>\n",
       "  <tbody>\n",
       "    <tr>\n",
       "      <td>1</td>\n",
       "      <td>no</td>\n",
       "      <td>yes</td>\n",
       "      <td>0.113370</td>\n",
       "    </tr>\n",
       "    <tr>\n",
       "      <td>3</td>\n",
       "      <td>unknown</td>\n",
       "      <td>yes</td>\n",
       "      <td>0.099363</td>\n",
       "    </tr>\n",
       "    <tr>\n",
       "      <td>5</td>\n",
       "      <td>yes</td>\n",
       "      <td>yes</td>\n",
       "      <td>0.110842</td>\n",
       "    </tr>\n",
       "  </tbody>\n",
       "</table>\n",
       "</div>"
      ],
      "text/plain": [
       "      loan    y      rate\n",
       "1       no  yes  0.113370\n",
       "3  unknown  yes  0.099363\n",
       "5      yes  yes  0.110842"
      ]
     },
     "execution_count": 633,
     "metadata": {},
     "output_type": "execute_result"
    }
   ],
   "source": [
    "# conversion regarding taken the loan before or not\n",
    "loan_resp_rates = (ld_train.groupby(\"loan\").y.value_counts() / ld_train.groupby('loan').size()).rename('rate').reset_index()\n",
    "loan_pos_rates = loan_resp_rates.query('y == \"yes\"')\n",
    "loan_pos_rates"
   ]
  },
  {
   "cell_type": "code",
   "execution_count": 634,
   "metadata": {},
   "outputs": [
    {
     "data": {
      "text/html": [
       "<div>\n",
       "<style scoped>\n",
       "    .dataframe tbody tr th:only-of-type {\n",
       "        vertical-align: middle;\n",
       "    }\n",
       "\n",
       "    .dataframe tbody tr th {\n",
       "        vertical-align: top;\n",
       "    }\n",
       "\n",
       "    .dataframe thead th {\n",
       "        text-align: right;\n",
       "    }\n",
       "</style>\n",
       "<table border=\"1\" class=\"dataframe\">\n",
       "  <thead>\n",
       "    <tr style=\"text-align: right;\">\n",
       "      <th></th>\n",
       "      <th>month</th>\n",
       "      <th>y</th>\n",
       "      <th>rate</th>\n",
       "    </tr>\n",
       "  </thead>\n",
       "  <tbody>\n",
       "    <tr>\n",
       "      <td>1</td>\n",
       "      <td>apr</td>\n",
       "      <td>yes</td>\n",
       "      <td>0.203837</td>\n",
       "    </tr>\n",
       "    <tr>\n",
       "      <td>3</td>\n",
       "      <td>aug</td>\n",
       "      <td>yes</td>\n",
       "      <td>0.107782</td>\n",
       "    </tr>\n",
       "    <tr>\n",
       "      <td>5</td>\n",
       "      <td>dec</td>\n",
       "      <td>yes</td>\n",
       "      <td>0.460526</td>\n",
       "    </tr>\n",
       "    <tr>\n",
       "      <td>7</td>\n",
       "      <td>jul</td>\n",
       "      <td>yes</td>\n",
       "      <td>0.091275</td>\n",
       "    </tr>\n",
       "    <tr>\n",
       "      <td>9</td>\n",
       "      <td>jun</td>\n",
       "      <td>yes</td>\n",
       "      <td>0.100904</td>\n",
       "    </tr>\n",
       "    <tr>\n",
       "      <td>10</td>\n",
       "      <td>mar</td>\n",
       "      <td>yes</td>\n",
       "      <td>0.511364</td>\n",
       "    </tr>\n",
       "    <tr>\n",
       "      <td>13</td>\n",
       "      <td>may</td>\n",
       "      <td>yes</td>\n",
       "      <td>0.064043</td>\n",
       "    </tr>\n",
       "    <tr>\n",
       "      <td>15</td>\n",
       "      <td>nov</td>\n",
       "      <td>yes</td>\n",
       "      <td>0.102203</td>\n",
       "    </tr>\n",
       "    <tr>\n",
       "      <td>17</td>\n",
       "      <td>oct</td>\n",
       "      <td>yes</td>\n",
       "      <td>0.427852</td>\n",
       "    </tr>\n",
       "    <tr>\n",
       "      <td>19</td>\n",
       "      <td>sep</td>\n",
       "      <td>yes</td>\n",
       "      <td>0.463043</td>\n",
       "    </tr>\n",
       "  </tbody>\n",
       "</table>\n",
       "</div>"
      ],
      "text/plain": [
       "   month    y      rate\n",
       "1    apr  yes  0.203837\n",
       "3    aug  yes  0.107782\n",
       "5    dec  yes  0.460526\n",
       "7    jul  yes  0.091275\n",
       "9    jun  yes  0.100904\n",
       "10   mar  yes  0.511364\n",
       "13   may  yes  0.064043\n",
       "15   nov  yes  0.102203\n",
       "17   oct  yes  0.427852\n",
       "19   sep  yes  0.463043"
      ]
     },
     "execution_count": 634,
     "metadata": {},
     "output_type": "execute_result"
    }
   ],
   "source": [
    "# conversion regarding on month\n",
    "month_resp_rates = (ld_train.groupby(\"month\").y.value_counts() / ld_train.groupby('month').size()).rename('rate').reset_index()\n",
    "month_pos_rates = month_resp_rates.query('y == \"yes\"')\n",
    "month_pos_rates"
   ]
  },
  {
   "cell_type": "code",
   "execution_count": 635,
   "metadata": {},
   "outputs": [
    {
     "data": {
      "text/html": [
       "<div>\n",
       "<style scoped>\n",
       "    .dataframe tbody tr th:only-of-type {\n",
       "        vertical-align: middle;\n",
       "    }\n",
       "\n",
       "    .dataframe tbody tr th {\n",
       "        vertical-align: top;\n",
       "    }\n",
       "\n",
       "    .dataframe thead th {\n",
       "        text-align: right;\n",
       "    }\n",
       "</style>\n",
       "<table border=\"1\" class=\"dataframe\">\n",
       "  <thead>\n",
       "    <tr style=\"text-align: right;\">\n",
       "      <th></th>\n",
       "      <th>day_of_week</th>\n",
       "      <th>y</th>\n",
       "      <th>rate</th>\n",
       "    </tr>\n",
       "  </thead>\n",
       "  <tbody>\n",
       "    <tr>\n",
       "      <td>1</td>\n",
       "      <td>fri</td>\n",
       "      <td>yes</td>\n",
       "      <td>0.111681</td>\n",
       "    </tr>\n",
       "    <tr>\n",
       "      <td>3</td>\n",
       "      <td>mon</td>\n",
       "      <td>yes</td>\n",
       "      <td>0.099809</td>\n",
       "    </tr>\n",
       "    <tr>\n",
       "      <td>5</td>\n",
       "      <td>thu</td>\n",
       "      <td>yes</td>\n",
       "      <td>0.120532</td>\n",
       "    </tr>\n",
       "    <tr>\n",
       "      <td>7</td>\n",
       "      <td>tue</td>\n",
       "      <td>yes</td>\n",
       "      <td>0.118923</td>\n",
       "    </tr>\n",
       "    <tr>\n",
       "      <td>9</td>\n",
       "      <td>wed</td>\n",
       "      <td>yes</td>\n",
       "      <td>0.112413</td>\n",
       "    </tr>\n",
       "  </tbody>\n",
       "</table>\n",
       "</div>"
      ],
      "text/plain": [
       "  day_of_week    y      rate\n",
       "1         fri  yes  0.111681\n",
       "3         mon  yes  0.099809\n",
       "5         thu  yes  0.120532\n",
       "7         tue  yes  0.118923\n",
       "9         wed  yes  0.112413"
      ]
     },
     "execution_count": 635,
     "metadata": {},
     "output_type": "execute_result"
    }
   ],
   "source": [
    "# conversion regarding days of week\n",
    "dow_resp_rates = (ld_train.groupby(\"day_of_week\").y.value_counts() / ld_train.groupby('day_of_week').size()).rename('rate').reset_index()\n",
    "dow_pos_rates = dow_resp_rates.query('y == \"yes\"')\n",
    "dow_pos_rates"
   ]
  },
  {
   "cell_type": "code",
   "execution_count": 636,
   "metadata": {},
   "outputs": [
    {
     "data": {
      "text/html": [
       "<div>\n",
       "<style scoped>\n",
       "    .dataframe tbody tr th:only-of-type {\n",
       "        vertical-align: middle;\n",
       "    }\n",
       "\n",
       "    .dataframe tbody tr th {\n",
       "        vertical-align: top;\n",
       "    }\n",
       "\n",
       "    .dataframe thead th {\n",
       "        text-align: right;\n",
       "    }\n",
       "</style>\n",
       "<table border=\"1\" class=\"dataframe\">\n",
       "  <thead>\n",
       "    <tr style=\"text-align: right;\">\n",
       "      <th></th>\n",
       "      <th>poutcome</th>\n",
       "      <th>y</th>\n",
       "      <th>rate</th>\n",
       "    </tr>\n",
       "  </thead>\n",
       "  <tbody>\n",
       "    <tr>\n",
       "      <td>1</td>\n",
       "      <td>failure</td>\n",
       "      <td>yes</td>\n",
       "      <td>0.142815</td>\n",
       "    </tr>\n",
       "    <tr>\n",
       "      <td>3</td>\n",
       "      <td>nonexistent</td>\n",
       "      <td>yes</td>\n",
       "      <td>0.088499</td>\n",
       "    </tr>\n",
       "    <tr>\n",
       "      <td>4</td>\n",
       "      <td>success</td>\n",
       "      <td>yes</td>\n",
       "      <td>0.645455</td>\n",
       "    </tr>\n",
       "  </tbody>\n",
       "</table>\n",
       "</div>"
      ],
      "text/plain": [
       "      poutcome    y      rate\n",
       "1      failure  yes  0.142815\n",
       "3  nonexistent  yes  0.088499\n",
       "4      success  yes  0.645455"
      ]
     },
     "execution_count": 636,
     "metadata": {},
     "output_type": "execute_result"
    }
   ],
   "source": [
    "# conversion regarding the putcomes\n",
    "poutcome_resp_rates = (ld_train.groupby(\"poutcome\").y.value_counts() / ld_train.groupby('poutcome').size()).rename('rate').reset_index()\n",
    "poutcome_pos_rates = poutcome_resp_rates.query('y == \"yes\"')\n",
    "poutcome_pos_rates"
   ]
  },
  {
   "cell_type": "code",
   "execution_count": 637,
   "metadata": {},
   "outputs": [
    {
     "data": {
      "text/html": [
       "<div>\n",
       "<style scoped>\n",
       "    .dataframe tbody tr th:only-of-type {\n",
       "        vertical-align: middle;\n",
       "    }\n",
       "\n",
       "    .dataframe tbody tr th {\n",
       "        vertical-align: top;\n",
       "    }\n",
       "\n",
       "    .dataframe thead th {\n",
       "        text-align: right;\n",
       "    }\n",
       "</style>\n",
       "<table border=\"1\" class=\"dataframe\">\n",
       "  <thead>\n",
       "    <tr style=\"text-align: right;\">\n",
       "      <th></th>\n",
       "      <th>age</th>\n",
       "      <th>duration</th>\n",
       "      <th>campaign</th>\n",
       "      <th>pdays</th>\n",
       "      <th>previous</th>\n",
       "      <th>emp.var.rate</th>\n",
       "      <th>cons.price.idx</th>\n",
       "      <th>cons.conf.idx</th>\n",
       "      <th>euribor3m</th>\n",
       "      <th>nr.employed</th>\n",
       "    </tr>\n",
       "  </thead>\n",
       "  <tbody>\n",
       "    <tr>\n",
       "      <td>age</td>\n",
       "      <td>1.000000</td>\n",
       "      <td>-0.000534</td>\n",
       "      <td>0.003871</td>\n",
       "      <td>-0.040499</td>\n",
       "      <td>0.026070</td>\n",
       "      <td>-0.002521</td>\n",
       "      <td>-0.000826</td>\n",
       "      <td>0.131373</td>\n",
       "      <td>0.009118</td>\n",
       "      <td>-0.019976</td>\n",
       "    </tr>\n",
       "    <tr>\n",
       "      <td>duration</td>\n",
       "      <td>-0.000534</td>\n",
       "      <td>1.000000</td>\n",
       "      <td>-0.069824</td>\n",
       "      <td>-0.048276</td>\n",
       "      <td>0.020718</td>\n",
       "      <td>-0.028314</td>\n",
       "      <td>0.003376</td>\n",
       "      <td>-0.013826</td>\n",
       "      <td>-0.032236</td>\n",
       "      <td>-0.042909</td>\n",
       "    </tr>\n",
       "    <tr>\n",
       "      <td>campaign</td>\n",
       "      <td>0.003871</td>\n",
       "      <td>-0.069824</td>\n",
       "      <td>1.000000</td>\n",
       "      <td>0.053601</td>\n",
       "      <td>-0.078849</td>\n",
       "      <td>0.150863</td>\n",
       "      <td>0.126796</td>\n",
       "      <td>-0.012469</td>\n",
       "      <td>0.135417</td>\n",
       "      <td>0.144133</td>\n",
       "    </tr>\n",
       "    <tr>\n",
       "      <td>pdays</td>\n",
       "      <td>-0.040499</td>\n",
       "      <td>-0.048276</td>\n",
       "      <td>0.053601</td>\n",
       "      <td>1.000000</td>\n",
       "      <td>-0.591424</td>\n",
       "      <td>0.269786</td>\n",
       "      <td>0.076003</td>\n",
       "      <td>-0.090215</td>\n",
       "      <td>0.297244</td>\n",
       "      <td>0.374741</td>\n",
       "    </tr>\n",
       "    <tr>\n",
       "      <td>previous</td>\n",
       "      <td>0.026070</td>\n",
       "      <td>0.020718</td>\n",
       "      <td>-0.078849</td>\n",
       "      <td>-0.591424</td>\n",
       "      <td>1.000000</td>\n",
       "      <td>-0.418414</td>\n",
       "      <td>-0.201620</td>\n",
       "      <td>-0.045885</td>\n",
       "      <td>-0.452213</td>\n",
       "      <td>-0.500041</td>\n",
       "    </tr>\n",
       "    <tr>\n",
       "      <td>emp.var.rate</td>\n",
       "      <td>-0.002521</td>\n",
       "      <td>-0.028314</td>\n",
       "      <td>0.150863</td>\n",
       "      <td>0.269786</td>\n",
       "      <td>-0.418414</td>\n",
       "      <td>1.000000</td>\n",
       "      <td>0.776241</td>\n",
       "      <td>0.195424</td>\n",
       "      <td>0.972280</td>\n",
       "      <td>0.907165</td>\n",
       "    </tr>\n",
       "    <tr>\n",
       "      <td>cons.price.idx</td>\n",
       "      <td>-0.000826</td>\n",
       "      <td>0.003376</td>\n",
       "      <td>0.126796</td>\n",
       "      <td>0.076003</td>\n",
       "      <td>-0.201620</td>\n",
       "      <td>0.776241</td>\n",
       "      <td>1.000000</td>\n",
       "      <td>0.057807</td>\n",
       "      <td>0.689366</td>\n",
       "      <td>0.523400</td>\n",
       "    </tr>\n",
       "    <tr>\n",
       "      <td>cons.conf.idx</td>\n",
       "      <td>0.131373</td>\n",
       "      <td>-0.013826</td>\n",
       "      <td>-0.012469</td>\n",
       "      <td>-0.090215</td>\n",
       "      <td>-0.045885</td>\n",
       "      <td>0.195424</td>\n",
       "      <td>0.057807</td>\n",
       "      <td>1.000000</td>\n",
       "      <td>0.277527</td>\n",
       "      <td>0.100617</td>\n",
       "    </tr>\n",
       "    <tr>\n",
       "      <td>euribor3m</td>\n",
       "      <td>0.009118</td>\n",
       "      <td>-0.032236</td>\n",
       "      <td>0.135417</td>\n",
       "      <td>0.297244</td>\n",
       "      <td>-0.452213</td>\n",
       "      <td>0.972280</td>\n",
       "      <td>0.689366</td>\n",
       "      <td>0.277527</td>\n",
       "      <td>1.000000</td>\n",
       "      <td>0.945128</td>\n",
       "    </tr>\n",
       "    <tr>\n",
       "      <td>nr.employed</td>\n",
       "      <td>-0.019976</td>\n",
       "      <td>-0.042909</td>\n",
       "      <td>0.144133</td>\n",
       "      <td>0.374741</td>\n",
       "      <td>-0.500041</td>\n",
       "      <td>0.907165</td>\n",
       "      <td>0.523400</td>\n",
       "      <td>0.100617</td>\n",
       "      <td>0.945128</td>\n",
       "      <td>1.000000</td>\n",
       "    </tr>\n",
       "  </tbody>\n",
       "</table>\n",
       "</div>"
      ],
      "text/plain": [
       "                     age  duration  campaign     pdays  previous  \\\n",
       "age             1.000000 -0.000534  0.003871 -0.040499  0.026070   \n",
       "duration       -0.000534  1.000000 -0.069824 -0.048276  0.020718   \n",
       "campaign        0.003871 -0.069824  1.000000  0.053601 -0.078849   \n",
       "pdays          -0.040499 -0.048276  0.053601  1.000000 -0.591424   \n",
       "previous        0.026070  0.020718 -0.078849 -0.591424  1.000000   \n",
       "emp.var.rate   -0.002521 -0.028314  0.150863  0.269786 -0.418414   \n",
       "cons.price.idx -0.000826  0.003376  0.126796  0.076003 -0.201620   \n",
       "cons.conf.idx   0.131373 -0.013826 -0.012469 -0.090215 -0.045885   \n",
       "euribor3m       0.009118 -0.032236  0.135417  0.297244 -0.452213   \n",
       "nr.employed    -0.019976 -0.042909  0.144133  0.374741 -0.500041   \n",
       "\n",
       "                emp.var.rate  cons.price.idx  cons.conf.idx  euribor3m  \\\n",
       "age                -0.002521       -0.000826       0.131373   0.009118   \n",
       "duration           -0.028314        0.003376      -0.013826  -0.032236   \n",
       "campaign            0.150863        0.126796      -0.012469   0.135417   \n",
       "pdays               0.269786        0.076003      -0.090215   0.297244   \n",
       "previous           -0.418414       -0.201620      -0.045885  -0.452213   \n",
       "emp.var.rate        1.000000        0.776241       0.195424   0.972280   \n",
       "cons.price.idx      0.776241        1.000000       0.057807   0.689366   \n",
       "cons.conf.idx       0.195424        0.057807       1.000000   0.277527   \n",
       "euribor3m           0.972280        0.689366       0.277527   1.000000   \n",
       "nr.employed         0.907165        0.523400       0.100617   0.945128   \n",
       "\n",
       "                nr.employed  \n",
       "age               -0.019976  \n",
       "duration          -0.042909  \n",
       "campaign           0.144133  \n",
       "pdays              0.374741  \n",
       "previous          -0.500041  \n",
       "emp.var.rate       0.907165  \n",
       "cons.price.idx     0.523400  \n",
       "cons.conf.idx      0.100617  \n",
       "euribor3m          0.945128  \n",
       "nr.employed        1.000000  "
      ]
     },
     "execution_count": 637,
     "metadata": {},
     "output_type": "execute_result"
    }
   ],
   "source": [
    "ld_train.corr()"
   ]
  },
  {
   "cell_type": "code",
   "execution_count": 638,
   "metadata": {},
   "outputs": [
    {
     "data": {
      "image/png": "[encoded data removed]",
      "text/plain": [
       "<Figure size 720x504 with 2 Axes>"
      ]
     },
     "metadata": {
      "needs_background": "light"
     },
     "output_type": "display_data"
    }
   ],
   "source": [
    "plt.figure(figsize=(10,7));\n",
    "sns.heatmap(ld_train[numeric].drop('pdays', axis=1).corr('spearman'), annot=True);"
   ]
  },
  {
   "cell_type": "code",
   "execution_count": 639,
   "metadata": {},
   "outputs": [],
   "source": [
    "ld_train['y']=(ld_train['y']=='yes').astype(int)"
   ]
  },
  {
   "cell_type": "code",
   "execution_count": 640,
   "metadata": {},
   "outputs": [
    {
     "data": {
      "text/plain": [
       "0    29238\n",
       "1     3712\n",
       "Name: y, dtype: int64"
      ]
     },
     "execution_count": 640,
     "metadata": {},
     "output_type": "execute_result"
    }
   ],
   "source": [
    "ld_train[\"y\"].value_counts()"
   ]
  },
  {
   "cell_type": "code",
   "execution_count": 641,
   "metadata": {},
   "outputs": [
    {
     "data": {
      "text/plain": [
       "999    31736\n",
       "3        345\n",
       "6        341\n",
       "4         92\n",
       "2         54\n",
       "9         52\n",
       "7         48\n",
       "12        43\n",
       "10        43\n",
       "5         37\n",
       "13        28\n",
       "1         20\n",
       "11        19\n",
       "15        18\n",
       "8         14\n",
       "0         13\n",
       "14        13\n",
       "16         9\n",
       "17         8\n",
       "18         6\n",
       "19         3\n",
       "21         2\n",
       "22         2\n",
       "26         1\n",
       "20         1\n",
       "25         1\n",
       "27         1\n",
       "Name: pdays, dtype: int64"
      ]
     },
     "execution_count": 641,
     "metadata": {},
     "output_type": "execute_result"
    }
   ],
   "source": [
    "ld_train['pdays'].value_counts()"
   ]
  },
  {
   "cell_type": "code",
   "execution_count": 642,
   "metadata": {},
   "outputs": [],
   "source": [
    "ld_train[\"pdays\"]=np.where(ld_train[\"pdays\"]==999,0,1)"
   ]
  },
  {
   "cell_type": "code",
   "execution_count": 643,
   "metadata": {},
   "outputs": [],
   "source": [
    "ld_train[\"pdays\"]=pd.to_numeric(ld_train[\"pdays\"],errors=\"coerce\")"
   ]
  },
  {
   "cell_type": "code",
   "execution_count": 644,
   "metadata": {},
   "outputs": [
    {
     "name": "stderr",
     "output_type": "stream",
     "text": [
      "C:\\Users\\ujjawalv\\AppData\\Local\\Continuum\\anaconda3\\lib\\site-packages\\pandas\\core\\series.py:853: RuntimeWarning: divide by zero encountered in log\n",
      "  result = getattr(ufunc, method)(*inputs, **kwargs)\n"
     ]
    }
   ],
   "source": [
    "num_features=['age','duration']\n",
    "\n",
    "for feature in num_features:\n",
    "    x[feature]=np.log(ld_train[feature])"
   ]
  },
  {
   "cell_type": "code",
   "execution_count": 645,
   "metadata": {},
   "outputs": [],
   "source": [
    "cat_cols=ld_train.select_dtypes(['O']).columns"
   ]
  },
  {
   "cell_type": "code",
   "execution_count": 646,
   "metadata": {},
   "outputs": [
    {
     "data": {
      "text/plain": [
       "Index(['job', 'marital', 'education', 'default', 'housing', 'loan', 'contact',\n",
       "       'month', 'day_of_week', 'poutcome'],\n",
       "      dtype='object')"
      ]
     },
     "execution_count": 646,
     "metadata": {},
     "output_type": "execute_result"
    }
   ],
   "source": [
    "cat_cols"
   ]
  },
  {
   "cell_type": "code",
   "execution_count": 647,
   "metadata": {},
   "outputs": [
    {
     "data": {
      "text/plain": [
       "Index(['job', 'marital', 'education', 'default', 'housing', 'loan', 'contact',\n",
       "       'month', 'day_of_week', 'poutcome'],\n",
       "      dtype='object')"
      ]
     },
     "execution_count": 647,
     "metadata": {},
     "output_type": "execute_result"
    }
   ],
   "source": [
    "cat_cols"
   ]
  },
  {
   "cell_type": "code",
   "execution_count": 648,
   "metadata": {},
   "outputs": [
    {
     "name": "stdout",
     "output_type": "stream",
     "text": [
      "job\n",
      "marital\n",
      "education\n",
      "default\n",
      "housing\n",
      "loan\n",
      "contact\n",
      "month\n",
      "day_of_week\n",
      "poutcome\n"
     ]
    }
   ],
   "source": [
    "for col in cat_cols:\n",
    "    freqs=ld_train[col].value_counts()\n",
    "    k=freqs.index[freqs>300]\n",
    "    for cat in k:\n",
    "        name=col+'_'+cat\n",
    "        ld_train[name]=(ld_train[col]==cat).astype(int)\n",
    "    del ld_train[col]\n",
    "    print(col)"
   ]
  },
  {
   "cell_type": "code",
   "execution_count": 649,
   "metadata": {},
   "outputs": [],
   "source": [
    "x=ld_train.drop([\"y\"],axis=1)\n",
    "y=ld_train[\"y\"]"
   ]
  },
  {
   "cell_type": "code",
   "execution_count": 650,
   "metadata": {},
   "outputs": [
    {
     "name": "stderr",
     "output_type": "stream",
     "text": [
      "C:\\Users\\ujjawalv\\AppData\\Local\\Continuum\\anaconda3\\lib\\site-packages\\sklearn\\ensemble\\forest.py:245: FutureWarning: The default value of n_estimators will change from 10 in version 0.20 to 100 in 0.22.\n",
      "  \"10 in version 0.20 to 100 in 0.22.\", FutureWarning)\n"
     ]
    },
    {
     "data": {
      "text/plain": [
       "ExtraTreesRegressor(bootstrap=False, criterion='mse', max_depth=None,\n",
       "                    max_features='auto', max_leaf_nodes=None,\n",
       "                    min_impurity_decrease=0.0, min_impurity_split=None,\n",
       "                    min_samples_leaf=1, min_samples_split=2,\n",
       "                    min_weight_fraction_leaf=0.0, n_estimators=10, n_jobs=None,\n",
       "                    oob_score=False, random_state=None, verbose=0,\n",
       "                    warm_start=False)"
      ]
     },
     "execution_count": 650,
     "metadata": {},
     "output_type": "execute_result"
    }
   ],
   "source": [
    "from sklearn.ensemble import ExtraTreesRegressor\n",
    "import matplotlib.pyplot as plt\n",
    "model = ExtraTreesRegressor()\n",
    "model.fit(x,y)"
   ]
  },
  {
   "cell_type": "code",
   "execution_count": 651,
   "metadata": {},
   "outputs": [],
   "source": [
    "from sklearn.model_selection import train_test_split\n",
    "x_train, x_test, y_train, y_test = train_test_split(x, y, test_size=0.3, random_state=0)"
   ]
  },
  {
   "cell_type": "code",
   "execution_count": 652,
   "metadata": {},
   "outputs": [
    {
     "name": "stdout",
     "output_type": "stream",
     "text": [
      "[0.04457754 0.260014   0.03935143 0.06407142 0.00919538 0.02124797\n",
      " 0.00818915 0.01223189 0.05918367 0.06589695 0.0163957  0.00965823\n",
      " 0.01273599 0.00907028 0.00917326 0.0084392  0.00444604 0.00573598\n",
      " 0.0042013  0.00548366 0.00568545 0.01233494 0.0138757  0.00881852\n",
      " 0.01367705 0.01273272 0.0103502  0.01149594 0.0081068  0.00650411\n",
      " 0.00796873 0.00640173 0.00631655 0.01332644 0.01362655 0.0011638\n",
      " 0.00978521 0.00892198 0.00131767 0.00484324 0.00694245 0.01517874\n",
      " 0.00499526 0.00473986 0.00421204 0.00352944 0.01094155 0.00904458\n",
      " 0.00238471 0.00582937 0.01305449 0.01350611 0.01325344 0.01329188\n",
      " 0.01300811 0.00554886 0.00473137 0.00925536]\n"
     ]
    }
   ],
   "source": [
    "print(model.feature_importances_)"
   ]
  },
  {
   "cell_type": "code",
   "execution_count": 653,
   "metadata": {},
   "outputs": [
    {
     "data": {
      "image/png": "[encoded data removed]",
      "text/plain": [
       "<Figure size 432x288 with 1 Axes>"
      ]
     },
     "metadata": {
      "needs_background": "light"
     },
     "output_type": "display_data"
    }
   ],
   "source": [
    "#plot graph of feature importances for better visualization\n",
    "feat_importances = pd.Series(model.feature_importances_, index=x.columns)\n",
    "feat_importances.nlargest(10).plot(kind='barh')\n",
    "plt.show()"
   ]
  },
  {
   "cell_type": "code",
   "execution_count": 654,
   "metadata": {},
   "outputs": [
    {
     "data": {
      "text/plain": [
       "duration                         0.260014\n",
       "nr.employed                      0.065897\n",
       "pdays                            0.064071\n",
       "euribor3m                        0.059184\n",
       "age                              0.044578\n",
       "campaign                         0.039351\n",
       "emp.var.rate                     0.021248\n",
       "job_admin.                       0.016396\n",
       "month_may                        0.015179\n",
       "marital_single                   0.013876\n",
       "education_university.degree      0.013677\n",
       "housing_no                       0.013627\n",
       "day_of_week_mon                  0.013506\n",
       "housing_yes                      0.013326\n",
       "day_of_week_wed                  0.013292\n",
       "day_of_week_tue                  0.013253\n",
       "day_of_week_thu                  0.013054\n",
       "day_of_week_fri                  0.013008\n",
       "job_technician                   0.012736\n",
       "education_high.school            0.012733\n",
       "marital_married                  0.012335\n",
       "cons.conf.idx                    0.012232\n",
       "education_professional.course    0.011496\n",
       "month_apr                        0.010942\n",
       "education_basic.9y               0.010350\n",
       "dtype: float64"
      ]
     },
     "execution_count": 654,
     "metadata": {},
     "output_type": "execute_result"
    }
   ],
   "source": [
    "feat_importances.nlargest(25)"
   ]
  },
  {
   "cell_type": "code",
   "execution_count": 655,
   "metadata": {},
   "outputs": [],
   "source": [
    "x_test=x_test[[\"duration\",\"euribor3m\",\"poutcome_success\",\"age\",\"campaign\",\"nr.employed\",\"pdays\",\"month_may\",\n",
    "                 \"emp.var.rate\",\"job_admin.\",\"marital_single\",\"day_of_week_thu\",\"education_high.school\",\"housing_no\",\"marital_married\",\n",
    "             \"cons.conf.idx\", \"housing_yes\",\"day_of_week_wed\",\"job_technician\",\"day_of_week_mon\",\"education_university.degree\",\n",
    "              \"day_of_week_tue\",\"day_of_week_fri\"]]"
   ]
  },
  {
   "cell_type": "code",
   "execution_count": 656,
   "metadata": {},
   "outputs": [],
   "source": [
    "x_train=x_train[[\"duration\",\"euribor3m\",\"poutcome_success\",\"age\",\"campaign\",\"nr.employed\",\"pdays\",\"month_may\",\n",
    "                 \"emp.var.rate\",\"job_admin.\",\"marital_single\",\"day_of_week_thu\",\"education_high.school\",\"housing_no\",\"marital_married\",\n",
    "             \"cons.conf.idx\", \"housing_yes\",\"day_of_week_wed\",\"job_technician\",\"day_of_week_mon\",\"education_university.degree\",\n",
    "              \"day_of_week_tue\",\"day_of_week_fri\"]]"
   ]
  },
  {
   "cell_type": "code",
   "execution_count": 657,
   "metadata": {},
   "outputs": [],
   "source": [
    "from sklearn.linear_model import LogisticRegression"
   ]
  },
  {
   "cell_type": "code",
   "execution_count": 658,
   "metadata": {},
   "outputs": [],
   "source": [
    "lm= LogisticRegression()"
   ]
  },
  {
   "cell_type": "code",
   "execution_count": 659,
   "metadata": {},
   "outputs": [
    {
     "name": "stderr",
     "output_type": "stream",
     "text": [
      "C:\\Users\\ujjawalv\\AppData\\Local\\Continuum\\anaconda3\\lib\\site-packages\\sklearn\\linear_model\\logistic.py:432: FutureWarning: Default solver will be changed to 'lbfgs' in 0.22. Specify a solver to silence this warning.\n",
      "  FutureWarning)\n"
     ]
    },
    {
     "data": {
      "text/plain": [
       "LogisticRegression(C=1.0, class_weight=None, dual=False, fit_intercept=True,\n",
       "                   intercept_scaling=1, l1_ratio=None, max_iter=100,\n",
       "                   multi_class='warn', n_jobs=None, penalty='l2',\n",
       "                   random_state=None, solver='warn', tol=0.0001, verbose=0,\n",
       "                   warm_start=False)"
      ]
     },
     "execution_count": 659,
     "metadata": {},
     "output_type": "execute_result"
    }
   ],
   "source": [
    "lm.fit(x_train,y_train)"
   ]
  },
  {
   "cell_type": "code",
   "execution_count": 660,
   "metadata": {},
   "outputs": [],
   "source": [
    "logr=lm.predict(x_test)"
   ]
  },
  {
   "cell_type": "code",
   "execution_count": 661,
   "metadata": {},
   "outputs": [],
   "source": [
    "from sklearn.metrics import roc_auc_score"
   ]
  },
  {
   "cell_type": "code",
   "execution_count": 662,
   "metadata": {},
   "outputs": [
    {
     "data": {
      "text/plain": [
       "0.7899389223684068"
      ]
     },
     "execution_count": 662,
     "metadata": {},
     "output_type": "execute_result"
    }
   ],
   "source": [
    "roc_auc_score(logr,y_test)"
   ]
  },
  {
   "cell_type": "code",
   "execution_count": 663,
   "metadata": {},
   "outputs": [],
   "source": [
    "from sklearn.model_selection import RandomizedSearchCV"
   ]
  },
  {
   "cell_type": "code",
   "execution_count": 664,
   "metadata": {},
   "outputs": [],
   "source": [
    "from sklearn.ensemble import RandomForestClassifier"
   ]
  },
  {
   "cell_type": "code",
   "execution_count": 665,
   "metadata": {},
   "outputs": [],
   "source": [
    "clf = RandomForestClassifier()"
   ]
  },
  {
   "cell_type": "code",
   "execution_count": 666,
   "metadata": {},
   "outputs": [],
   "source": [
    "param_dist = {\"n_estimators\":[100,200,300,500,700,1000],\n",
    "              \n",
    "              \"bootstrap\": [True, False],\n",
    "              'class_weight':[None,'balanced'], \n",
    "                'criterion':['entropy','gini'],\n",
    "                'max_depth':[None,5,10,15,20,30,50,70],\n",
    "                'min_samples_leaf':[1,2,5,10,15,20], \n",
    "                'min_samples_split':[2,5,10,15,20]\n",
    "                  }"
   ]
  },
  {
   "cell_type": "code",
   "execution_count": 667,
   "metadata": {},
   "outputs": [
    {
     "data": {
      "text/plain": [
       "RandomizedSearchCV(cv=5, error_score='raise-deprecating',\n",
       "                   estimator=RandomForestClassifier(bootstrap=True,\n",
       "                                                    class_weight=None,\n",
       "                                                    criterion='gini',\n",
       "                                                    max_depth=None,\n",
       "                                                    max_features='auto',\n",
       "                                                    max_leaf_nodes=None,\n",
       "                                                    min_impurity_decrease=0.0,\n",
       "                                                    min_impurity_split=None,\n",
       "                                                    min_samples_leaf=1,\n",
       "                                                    min_samples_split=2,\n",
       "                                                    min_weight_fraction_leaf=0.0,\n",
       "                                                    n_estimators='warn',\n",
       "                                                    n_jobs=None,\n",
       "                                                    oob_sc...\n",
       "                   param_distributions={'bootstrap': [True, False],\n",
       "                                        'class_weight': [None, 'balanced'],\n",
       "                                        'criterion': ['entropy', 'gini'],\n",
       "                                        'max_depth': [None, 5, 10, 15, 20, 30,\n",
       "                                                      50, 70],\n",
       "                                        'min_samples_leaf': [1, 2, 5, 10, 15,\n",
       "                                                             20],\n",
       "                                        'min_samples_split': [2, 5, 10, 15, 20],\n",
       "                                        'n_estimators': [100, 200, 300, 500,\n",
       "                                                         700, 1000]},\n",
       "                   pre_dispatch='2*n_jobs', random_state=None, refit=True,\n",
       "                   return_train_score=False, scoring='roc_auc', verbose=0)"
      ]
     },
     "execution_count": 667,
     "metadata": {},
     "output_type": "execute_result"
    }
   ],
   "source": [
    "# run randomized search\n",
    "n_iter_search = 50\n",
    "# n_iter parameter of RandomizedSeacrhCV controls, how many \n",
    "# parameter combination will be tried; out of all possible given values\n",
    "\n",
    "random_search = RandomizedSearchCV(clf, param_distributions=param_dist,\n",
    "                                   n_iter=n_iter_search,scoring='roc_auc',cv=5)\n",
    "random_search.fit(x_train, y_train)"
   ]
  },
  {
   "cell_type": "code",
   "execution_count": 669,
   "metadata": {},
   "outputs": [],
   "source": [
    "def report(results, n_top=3):\n",
    "    for i in range(1, n_top + 1):\n",
    "        candidates = np.flatnonzero(results['rank_test_score'] == i)\n",
    "        for candidate in candidates:\n",
    "            print(\"Model with rank: {0}\".format(i))\n",
    "            print(\"Mean validation score: {0:.3f} (std: {1:.5f})\".format(\n",
    "                  results['mean_test_score'][candidate],\n",
    "                  results['std_test_score'][candidate]))\n",
    "            print(\"Parameters: {0}\".format(results['params'][candidate]))\n",
    "            print(\"\")"
   ]
  },
  {
   "cell_type": "code",
   "execution_count": 670,
   "metadata": {},
   "outputs": [
    {
     "name": "stdout",
     "output_type": "stream",
     "text": [
      "Model with rank: 1\n",
      "Mean validation score: 0.946 (std: 0.00152)\n",
      "Parameters: {'n_estimators': 500, 'min_samples_split': 10, 'min_samples_leaf': 5, 'max_depth': 70, 'criterion': 'entropy', 'class_weight': None, 'bootstrap': False}\n",
      "\n",
      "Model with rank: 2\n",
      "Mean validation score: 0.946 (std: 0.00203)\n",
      "Parameters: {'n_estimators': 300, 'min_samples_split': 10, 'min_samples_leaf': 1, 'max_depth': 70, 'criterion': 'entropy', 'class_weight': 'balanced', 'bootstrap': True}\n",
      "\n",
      "Model with rank: 3\n",
      "Mean validation score: 0.946 (std: 0.00168)\n",
      "Parameters: {'n_estimators': 700, 'min_samples_split': 2, 'min_samples_leaf': 15, 'max_depth': 70, 'criterion': 'entropy', 'class_weight': None, 'bootstrap': False}\n",
      "\n",
      "Model with rank: 4\n",
      "Mean validation score: 0.945 (std: 0.00172)\n",
      "Parameters: {'n_estimators': 1000, 'min_samples_split': 5, 'min_samples_leaf': 10, 'max_depth': 30, 'criterion': 'entropy', 'class_weight': None, 'bootstrap': True}\n",
      "\n",
      "Model with rank: 5\n",
      "Mean validation score: 0.945 (std: 0.00109)\n",
      "Parameters: {'n_estimators': 100, 'min_samples_split': 20, 'min_samples_leaf': 5, 'max_depth': 30, 'criterion': 'entropy', 'class_weight': None, 'bootstrap': True}\n",
      "\n"
     ]
    }
   ],
   "source": [
    "report(random_search.cv_results_,5)"
   ]
  },
  {
   "cell_type": "code",
   "execution_count": 681,
   "metadata": {},
   "outputs": [],
   "source": [
    "rf=random_search.best_estimator_"
   ]
  },
  {
   "cell_type": "code",
   "execution_count": 682,
   "metadata": {},
   "outputs": [],
   "source": [
    "logr=rf.fit(x_train, y_train)"
   ]
  },
  {
   "cell_type": "code",
   "execution_count": 683,
   "metadata": {},
   "outputs": [],
   "source": [
    "logr=rf.predict(x_test)"
   ]
  },
  {
   "cell_type": "code",
   "execution_count": 684,
   "metadata": {},
   "outputs": [
    {
     "data": {
      "text/plain": [
       "0.7851428383851088"
      ]
     },
     "execution_count": 684,
     "metadata": {},
     "output_type": "execute_result"
    }
   ],
   "source": [
    "roc_auc_score(logr,y_test)"
   ]
  },
  {
   "cell_type": "code",
   "execution_count": 685,
   "metadata": {},
   "outputs": [],
   "source": [
    "from xgboost.sklearn import XGBClassifier"
   ]
  },
  {
   "cell_type": "code",
   "execution_count": 687,
   "metadata": {},
   "outputs": [],
   "source": [
    "xgb_params = {  \n",
    "                \"learning_rate\":[0.01,0.05,0.1,0.3,0.5],\n",
    "                \"gamma\":[i/10.0 for i in range(0,5)],\n",
    "                \"max_depth\": [2,3,4,5,6,7,8],\n",
    "                \"min_child_weight\":[1,2,5,10],\n",
    "                \"max_delta_step\":[0,1,2,5,10],\n",
    "                \"subsample\":[i/10.0 for i in range(5,10)],\n",
    "                \"colsample_bytree\":[i/10.0 for i in range(5,10)],\n",
    "                \"colsample_bylevel\":[i/10.0 for i in range(5,10)],\n",
    "                \"reg_lambda\":[1e-5, 1e-2, 0.1, 1, 100], \n",
    "                \"reg_alpha\":[1e-5, 1e-2, 0.1, 1, 100],\n",
    "                \"scale_pos_weight\":[1,2,3,4,5,6,7,8,9],\n",
    "                \"n_estimators\":[100,500,700,1000]\n",
    "             }"
   ]
  },
  {
   "cell_type": "code",
   "execution_count": 688,
   "metadata": {},
   "outputs": [],
   "source": [
    "xgb=XGBClassifier(objective='binary:logistic')"
   ]
  },
  {
   "cell_type": "code",
   "execution_count": 689,
   "metadata": {},
   "outputs": [],
   "source": [
    "n_iter=50\n",
    "\n",
    "random_search=RandomizedSearchCV(xgb,n_jobs=-1,cv=5,n_iter=n_iter,scoring='roc_auc',\n",
    "                                 param_distributions=xgb_params)"
   ]
  },
  {
   "cell_type": "code",
   "execution_count": 690,
   "metadata": {},
   "outputs": [
    {
     "data": {
      "text/plain": [
       "RandomizedSearchCV(cv=5, error_score='raise-deprecating',\n",
       "                   estimator=XGBClassifier(base_score=None, booster=None,\n",
       "                                           colsample_bylevel=None,\n",
       "                                           colsample_bynode=None,\n",
       "                                           colsample_bytree=None, gamma=None,\n",
       "                                           gpu_id=None, importance_type='gain',\n",
       "                                           interaction_constraints=None,\n",
       "                                           learning_rate=None,\n",
       "                                           max_delta_step=None, max_depth=None,\n",
       "                                           min_child_weight=None, missing=nan,\n",
       "                                           monotone_co...\n",
       "                                        'max_delta_step': [0, 1, 2, 5, 10],\n",
       "                                        'max_depth': [2, 3, 4, 5, 6, 7, 8],\n",
       "                                        'min_child_weight': [1, 2, 5, 10],\n",
       "                                        'n_estimators': [100, 500, 700, 1000],\n",
       "                                        'reg_alpha': [1e-05, 0.01, 0.1, 1, 100],\n",
       "                                        'reg_lambda': [1e-05, 0.01, 0.1, 1,\n",
       "                                                       100],\n",
       "                                        'scale_pos_weight': [1, 2, 3, 4, 5, 6,\n",
       "                                                             7, 8, 9],\n",
       "                                        'subsample': [0.5, 0.6, 0.7, 0.8, 0.9]},\n",
       "                   pre_dispatch='2*n_jobs', random_state=None, refit=True,\n",
       "                   return_train_score=False, scoring='roc_auc', verbose=0)"
      ]
     },
     "execution_count": 690,
     "metadata": {},
     "output_type": "execute_result"
    }
   ],
   "source": [
    "random_search.fit(x_train,y_train)"
   ]
  },
  {
   "cell_type": "code",
   "execution_count": 694,
   "metadata": {},
   "outputs": [],
   "source": [
    "logr=random_search.predict(x_test)"
   ]
  },
  {
   "cell_type": "code",
   "execution_count": 695,
   "metadata": {},
   "outputs": [
    {
     "data": {
      "text/plain": [
       "0.7388109964191945"
      ]
     },
     "execution_count": 695,
     "metadata": {},
     "output_type": "execute_result"
    }
   ],
   "source": [
    "roc_auc_score(logr,y_test)"
   ]
  },
  {
   "cell_type": "code",
   "execution_count": 698,
   "metadata": {},
   "outputs": [
    {
     "name": "stderr",
     "output_type": "stream",
     "text": [
      "C:\\Users\\ujjawalv\\AppData\\Local\\Continuum\\anaconda3\\lib\\site-packages\\ipykernel_launcher.py:20: UserWarning: Update your `Dense` call to the Keras 2 API: `Dense(activation=\"relu\", input_dim=23, units=6, kernel_initializer=\"he_uniform\")`\n",
      "C:\\Users\\ujjawalv\\AppData\\Local\\Continuum\\anaconda3\\lib\\site-packages\\ipykernel_launcher.py:23: UserWarning: Update your `Dense` call to the Keras 2 API: `Dense(activation=\"relu\", units=6, kernel_initializer=\"he_uniform\")`\n",
      "C:\\Users\\ujjawalv\\AppData\\Local\\Continuum\\anaconda3\\lib\\site-packages\\ipykernel_launcher.py:25: UserWarning: Update your `Dense` call to the Keras 2 API: `Dense(activation=\"sigmoid\", units=1, kernel_initializer=\"glorot_uniform\")`\n",
      "C:\\Users\\ujjawalv\\AppData\\Local\\Continuum\\anaconda3\\lib\\site-packages\\ipykernel_launcher.py:31: UserWarning: The `nb_epoch` argument in `fit` has been renamed `epochs`.\n"
     ]
    },
    {
     "name": "stdout",
     "output_type": "stream",
     "text": [
      "Train on 15453 samples, validate on 7612 samples\n",
      "Epoch 1/100\n",
      "15453/15453 [==============================] - 39s 3ms/step - loss: 0.3697 - acc: 0.8682 - val_loss: 0.2830 - val_acc: 0.8966\n",
      "Epoch 2/100\n",
      "15453/15453 [==============================] - 38s 2ms/step - loss: 0.2513 - acc: 0.9012 - val_loss: 0.2377 - val_acc: 0.8994\n",
      "Epoch 3/100\n",
      "15453/15453 [==============================] - 42s 3ms/step - loss: 0.2206 - acc: 0.9042 - val_loss: 0.2143 - val_acc: 0.9019\n",
      "Epoch 4/100\n",
      "15453/15453 [==============================] - 39s 3ms/step - loss: 0.2063 - acc: 0.9069 - val_loss: 0.2043 - val_acc: 0.9040\n",
      "Epoch 5/100\n",
      "15453/15453 [==============================] - 39s 3ms/step - loss: 0.2003 - acc: 0.9081 - val_loss: 0.1996 - val_acc: 0.9033\n",
      "Epoch 6/100\n",
      "15453/15453 [==============================] - 38s 2ms/step - loss: 0.1974 - acc: 0.9093 - val_loss: 0.1972 - val_acc: 0.9041\n",
      "Epoch 7/100\n",
      "15453/15453 [==============================] - 39s 2ms/step - loss: 0.1953 - acc: 0.9093 - val_loss: 0.1966 - val_acc: 0.9046\n",
      "Epoch 8/100\n",
      "15453/15453 [==============================] - 40s 3ms/step - loss: 0.1944 - acc: 0.9081 - val_loss: 0.1953 - val_acc: 0.9053\n",
      "Epoch 9/100\n",
      "15453/15453 [==============================] - 38s 2ms/step - loss: 0.1935 - acc: 0.9095 - val_loss: 0.1947 - val_acc: 0.9051\n",
      "Epoch 10/100\n",
      "15453/15453 [==============================] - 40s 3ms/step - loss: 0.1927 - acc: 0.9093 - val_loss: 0.1939 - val_acc: 0.9057\n",
      "Epoch 11/100\n",
      "15453/15453 [==============================] - 40s 3ms/step - loss: 0.1919 - acc: 0.9100 - val_loss: 0.1939 - val_acc: 0.9055\n",
      "Epoch 12/100\n",
      "15453/15453 [==============================] - 39s 3ms/step - loss: 0.1916 - acc: 0.9092 - val_loss: 0.1936 - val_acc: 0.9051\n",
      "Epoch 13/100\n",
      "15453/15453 [==============================] - 39s 2ms/step - loss: 0.1911 - acc: 0.9105 - val_loss: 0.1933 - val_acc: 0.9063\n",
      "Epoch 14/100\n",
      "15453/15453 [==============================] - 42s 3ms/step - loss: 0.1907 - acc: 0.9098 - val_loss: 0.1936 - val_acc: 0.9059\n",
      "Epoch 15/100\n",
      "15453/15453 [==============================] - 39s 2ms/step - loss: 0.1903 - acc: 0.9111 - val_loss: 0.1930 - val_acc: 0.9063\n",
      "Epoch 16/100\n",
      "15453/15453 [==============================] - 40s 3ms/step - loss: 0.1902 - acc: 0.9111 - val_loss: 0.1929 - val_acc: 0.9062\n",
      "Epoch 17/100\n",
      "15453/15453 [==============================] - 39s 3ms/step - loss: 0.1899 - acc: 0.9100 - val_loss: 0.1931 - val_acc: 0.9049\n",
      "Epoch 18/100\n",
      "15453/15453 [==============================] - 40s 3ms/step - loss: 0.1896 - acc: 0.9112 - val_loss: 0.1925 - val_acc: 0.9069\n",
      "Epoch 19/100\n",
      "15453/15453 [==============================] - 39s 3ms/step - loss: 0.1894 - acc: 0.9109 - val_loss: 0.1926 - val_acc: 0.9070\n",
      "Epoch 20/100\n",
      "15453/15453 [==============================] - 39s 3ms/step - loss: 0.1891 - acc: 0.9117 - val_loss: 0.1923 - val_acc: 0.9045\n",
      "Epoch 21/100\n",
      "15453/15453 [==============================] - 39s 3ms/step - loss: 0.1888 - acc: 0.9119 - val_loss: 0.1925 - val_acc: 0.9062\n",
      "Epoch 22/100\n",
      "15453/15453 [==============================] - 39s 3ms/step - loss: 0.1886 - acc: 0.9121 - val_loss: 0.1924 - val_acc: 0.9070\n",
      "Epoch 23/100\n",
      "15453/15453 [==============================] - 40s 3ms/step - loss: 0.1882 - acc: 0.9123 - val_loss: 0.1932 - val_acc: 0.9053\n",
      "Epoch 24/100\n",
      "15453/15453 [==============================] - 36s 2ms/step - loss: 0.1884 - acc: 0.9116 - val_loss: 0.1927 - val_acc: 0.9063\n",
      "Epoch 25/100\n",
      "15453/15453 [==============================] - 36s 2ms/step - loss: 0.1882 - acc: 0.9128 - val_loss: 0.1924 - val_acc: 0.9057\n",
      "Epoch 26/100\n",
      "15453/15453 [==============================] - 37s 2ms/step - loss: 0.1879 - acc: 0.9126 - val_loss: 0.1920 - val_acc: 0.9067\n",
      "Epoch 27/100\n",
      "15453/15453 [==============================] - 39s 3ms/step - loss: 0.1878 - acc: 0.9117 - val_loss: 0.1922 - val_acc: 0.9058\n",
      "Epoch 28/100\n",
      "15453/15453 [==============================] - 40s 3ms/step - loss: 0.1874 - acc: 0.9127 - val_loss: 0.1924 - val_acc: 0.9069\n",
      "Epoch 29/100\n",
      "15453/15453 [==============================] - 39s 3ms/step - loss: 0.1872 - acc: 0.9123 - val_loss: 0.1922 - val_acc: 0.9069\n",
      "Epoch 30/100\n",
      "15453/15453 [==============================] - 41s 3ms/step - loss: 0.1871 - acc: 0.9128 - val_loss: 0.1918 - val_acc: 0.9057\n",
      "Epoch 31/100\n",
      "15453/15453 [==============================] - 39s 3ms/step - loss: 0.1868 - acc: 0.9135 - val_loss: 0.1921 - val_acc: 0.9058\n",
      "Epoch 32/100\n",
      "15453/15453 [==============================] - 40s 3ms/step - loss: 0.1864 - acc: 0.9135 - val_loss: 0.1924 - val_acc: 0.9062\n",
      "Epoch 33/100\n",
      "15453/15453 [==============================] - 39s 3ms/step - loss: 0.1866 - acc: 0.9129 - val_loss: 0.1919 - val_acc: 0.9058\n",
      "Epoch 34/100\n",
      "15453/15453 [==============================] - 40s 3ms/step - loss: 0.1861 - acc: 0.9136 - val_loss: 0.1924 - val_acc: 0.9059\n",
      "Epoch 35/100\n",
      "15453/15453 [==============================] - 40s 3ms/step - loss: 0.1860 - acc: 0.9125 - val_loss: 0.1915 - val_acc: 0.9071\n",
      "Epoch 36/100\n",
      "15453/15453 [==============================] - 40s 3ms/step - loss: 0.1858 - acc: 0.9130 - val_loss: 0.1912 - val_acc: 0.9070\n",
      "Epoch 37/100\n",
      "15453/15453 [==============================] - 40s 3ms/step - loss: 0.1856 - acc: 0.9137 - val_loss: 0.1918 - val_acc: 0.9071\n",
      "Epoch 38/100\n",
      "15453/15453 [==============================] - 40s 3ms/step - loss: 0.1851 - acc: 0.9132 - val_loss: 0.1925 - val_acc: 0.9074\n",
      "Epoch 39/100\n",
      "15453/15453 [==============================] - 40s 3ms/step - loss: 0.1852 - acc: 0.9124 - val_loss: 0.1917 - val_acc: 0.9063\n",
      "Epoch 40/100\n",
      "15453/15453 [==============================] - 41s 3ms/step - loss: 0.1851 - acc: 0.9140 - val_loss: 0.1917 - val_acc: 0.9069\n",
      "Epoch 41/100\n",
      "15453/15453 [==============================] - 39s 3ms/step - loss: 0.1847 - acc: 0.9130 - val_loss: 0.1919 - val_acc: 0.9070\n",
      "Epoch 42/100\n",
      "15453/15453 [==============================] - 36s 2ms/step - loss: 0.1848 - acc: 0.9132 - val_loss: 0.1923 - val_acc: 0.9069\n",
      "Epoch 43/100\n",
      "15453/15453 [==============================] - 37s 2ms/step - loss: 0.1846 - acc: 0.9135 - val_loss: 0.1915 - val_acc: 0.9080\n",
      "Epoch 44/100\n",
      "15453/15453 [==============================] - 36s 2ms/step - loss: 0.1845 - acc: 0.9142 - val_loss: 0.1913 - val_acc: 0.9079\n",
      "Epoch 45/100\n",
      "15453/15453 [==============================] - 36s 2ms/step - loss: 0.1842 - acc: 0.9134 - val_loss: 0.1918 - val_acc: 0.9070\n",
      "Epoch 46/100\n",
      "15453/15453 [==============================] - 40s 3ms/step - loss: 0.1840 - acc: 0.9135 - val_loss: 0.1916 - val_acc: 0.9071\n",
      "Epoch 47/100\n",
      "15453/15453 [==============================] - 50s 3ms/step - loss: 0.1839 - acc: 0.9139 - val_loss: 0.1914 - val_acc: 0.9076\n",
      "Epoch 48/100\n",
      "15453/15453 [==============================] - 40s 3ms/step - loss: 0.1838 - acc: 0.9144 - val_loss: 0.1908 - val_acc: 0.9090\n",
      "Epoch 49/100\n",
      "15453/15453 [==============================] - 41s 3ms/step - loss: 0.1836 - acc: 0.9157 - val_loss: 0.1912 - val_acc: 0.9082\n",
      "Epoch 50/100\n",
      "15453/15453 [==============================] - 40s 3ms/step - loss: 0.1834 - acc: 0.9156 - val_loss: 0.1912 - val_acc: 0.9094\n",
      "Epoch 51/100\n",
      "15453/15453 [==============================] - 40s 3ms/step - loss: 0.1833 - acc: 0.9157 - val_loss: 0.1915 - val_acc: 0.9079\n",
      "Epoch 52/100\n",
      "15453/15453 [==============================] - 39s 3ms/step - loss: 0.1831 - acc: 0.9159 - val_loss: 0.1915 - val_acc: 0.9083\n",
      "Epoch 53/100\n",
      "15453/15453 [==============================] - 40s 3ms/step - loss: 0.1831 - acc: 0.9153 - val_loss: 0.1911 - val_acc: 0.9083\n",
      "Epoch 54/100\n",
      "15453/15453 [==============================] - 39s 3ms/step - loss: 0.1831 - acc: 0.9155 - val_loss: 0.1915 - val_acc: 0.9086\n",
      "Epoch 55/100\n",
      "15453/15453 [==============================] - 39s 3ms/step - loss: 0.1826 - acc: 0.9156 - val_loss: 0.1919 - val_acc: 0.9091\n",
      "Epoch 56/100\n",
      "15453/15453 [==============================] - 41s 3ms/step - loss: 0.1829 - acc: 0.9156 - val_loss: 0.1915 - val_acc: 0.9082\n",
      "Epoch 57/100\n",
      "15453/15453 [==============================] - 43s 3ms/step - loss: 0.1826 - acc: 0.9155 - val_loss: 0.1919 - val_acc: 0.9095\n",
      "Epoch 58/100\n",
      "15453/15453 [==============================] - 43s 3ms/step - loss: 0.1825 - acc: 0.9154 - val_loss: 0.1914 - val_acc: 0.9082\n",
      "Epoch 59/100\n"
     ]
    },
    {
     "name": "stdout",
     "output_type": "stream",
     "text": [
      "15453/15453 [==============================] - 38s 2ms/step - loss: 0.1827 - acc: 0.9153 - val_loss: 0.1913 - val_acc: 0.9091\n",
      "Epoch 60/100\n",
      "15453/15453 [==============================] - 35s 2ms/step - loss: 0.1824 - acc: 0.9156 - val_loss: 0.1916 - val_acc: 0.9080\n",
      "Epoch 61/100\n",
      "15453/15453 [==============================] - 37s 2ms/step - loss: 0.1825 - acc: 0.9154 - val_loss: 0.1920 - val_acc: 0.9086\n",
      "Epoch 62/100\n",
      "15453/15453 [==============================] - 36s 2ms/step - loss: 0.1823 - acc: 0.9156 - val_loss: 0.1916 - val_acc: 0.9086\n",
      "Epoch 63/100\n",
      "15453/15453 [==============================] - 35s 2ms/step - loss: 0.1822 - acc: 0.9159 - val_loss: 0.1923 - val_acc: 0.9087\n",
      "Epoch 64/100\n",
      "15453/15453 [==============================] - 38s 2ms/step - loss: 0.1821 - acc: 0.9156 - val_loss: 0.1918 - val_acc: 0.9074\n",
      "Epoch 65/100\n",
      "15453/15453 [==============================] - 39s 3ms/step - loss: 0.1821 - acc: 0.9159 - val_loss: 0.1917 - val_acc: 0.9070\n",
      "Epoch 66/100\n",
      "15453/15453 [==============================] - 41s 3ms/step - loss: 0.1817 - acc: 0.9159 - val_loss: 0.1921 - val_acc: 0.9069\n",
      "Epoch 67/100\n",
      "15453/15453 [==============================] - 40s 3ms/step - loss: 0.1819 - acc: 0.9157 - val_loss: 0.1921 - val_acc: 0.9083\n",
      "Epoch 68/100\n",
      "15453/15453 [==============================] - 42s 3ms/step - loss: 0.1816 - acc: 0.9172 - val_loss: 0.1922 - val_acc: 0.9075\n",
      "Epoch 69/100\n",
      "15453/15453 [==============================] - 42s 3ms/step - loss: 0.1817 - acc: 0.9156 - val_loss: 0.1915 - val_acc: 0.9083\n",
      "Epoch 70/100\n",
      "15453/15453 [==============================] - 39s 2ms/step - loss: 0.1816 - acc: 0.9160 - val_loss: 0.1916 - val_acc: 0.9078\n",
      "Epoch 71/100\n",
      "15453/15453 [==============================] - 41s 3ms/step - loss: 0.1813 - acc: 0.9157 - val_loss: 0.1916 - val_acc: 0.9071\n",
      "Epoch 72/100\n",
      "15453/15453 [==============================] - 47s 3ms/step - loss: 0.1815 - acc: 0.9160 - val_loss: 0.1925 - val_acc: 0.9079\n",
      "Epoch 73/100\n",
      "15453/15453 [==============================] - 41s 3ms/step - loss: 0.1814 - acc: 0.9160 - val_loss: 0.1926 - val_acc: 0.9073\n",
      "Epoch 74/100\n",
      "15453/15453 [==============================] - 39s 3ms/step - loss: 0.1814 - acc: 0.9164 - val_loss: 0.1916 - val_acc: 0.9074\n",
      "Epoch 75/100\n",
      "15453/15453 [==============================] - 39s 3ms/step - loss: 0.1813 - acc: 0.9170 - val_loss: 0.1919 - val_acc: 0.9065\n",
      "Epoch 76/100\n",
      "15453/15453 [==============================] - 40s 3ms/step - loss: 0.1812 - acc: 0.9162 - val_loss: 0.1915 - val_acc: 0.9075\n",
      "Epoch 77/100\n",
      "15453/15453 [==============================] - 39s 3ms/step - loss: 0.1811 - acc: 0.9155 - val_loss: 0.1911 - val_acc: 0.9063\n",
      "Epoch 78/100\n",
      "15453/15453 [==============================] - 39s 3ms/step - loss: 0.1810 - acc: 0.9162 - val_loss: 0.1924 - val_acc: 0.9079\n",
      "Epoch 79/100\n",
      "15453/15453 [==============================] - 40s 3ms/step - loss: 0.1810 - acc: 0.9165 - val_loss: 0.1923 - val_acc: 0.9065\n",
      "Epoch 80/100\n",
      "15453/15453 [==============================] - 39s 3ms/step - loss: 0.1810 - acc: 0.9157 - val_loss: 0.1922 - val_acc: 0.9074\n",
      "Epoch 81/100\n",
      "15453/15453 [==============================] - 50s 3ms/step - loss: 0.1810 - acc: 0.9165 - val_loss: 0.1911 - val_acc: 0.9070\n",
      "Epoch 82/100\n",
      "15453/15453 [==============================] - 44s 3ms/step - loss: 0.1808 - acc: 0.9162 - val_loss: 0.1914 - val_acc: 0.9079\n",
      "Epoch 83/100\n",
      "15453/15453 [==============================] - 43s 3ms/step - loss: 0.1808 - acc: 0.9161 - val_loss: 0.1910 - val_acc: 0.9073\n",
      "Epoch 84/100\n",
      "15453/15453 [==============================] - 42s 3ms/step - loss: 0.1808 - acc: 0.9165 - val_loss: 0.1915 - val_acc: 0.9073\n",
      "Epoch 85/100\n",
      "15453/15453 [==============================] - 40s 3ms/step - loss: 0.1809 - acc: 0.9158 - val_loss: 0.1907 - val_acc: 0.9075\n",
      "Epoch 86/100\n",
      "15453/15453 [==============================] - 43s 3ms/step - loss: 0.1807 - acc: 0.9174 - val_loss: 0.1912 - val_acc: 0.9069\n",
      "Epoch 87/100\n",
      "15453/15453 [==============================] - 41s 3ms/step - loss: 0.1807 - acc: 0.9159 - val_loss: 0.1911 - val_acc: 0.9066\n",
      "Epoch 88/100\n",
      "15453/15453 [==============================] - 43s 3ms/step - loss: 0.1806 - acc: 0.9174 - val_loss: 0.1917 - val_acc: 0.9073\n",
      "Epoch 89/100\n",
      "15453/15453 [==============================] - 43s 3ms/step - loss: 0.1806 - acc: 0.9170 - val_loss: 0.1915 - val_acc: 0.9071\n",
      "Epoch 90/100\n",
      "15453/15453 [==============================] - 41s 3ms/step - loss: 0.1805 - acc: 0.9175 - val_loss: 0.1911 - val_acc: 0.9069\n",
      "Epoch 91/100\n",
      "15453/15453 [==============================] - 41s 3ms/step - loss: 0.1805 - acc: 0.9168 - val_loss: 0.1922 - val_acc: 0.9083\n",
      "Epoch 92/100\n",
      "15453/15453 [==============================] - 42s 3ms/step - loss: 0.1807 - acc: 0.9175 - val_loss: 0.1913 - val_acc: 0.9078\n",
      "Epoch 93/100\n",
      "15453/15453 [==============================] - 43s 3ms/step - loss: 0.1805 - acc: 0.9166 - val_loss: 0.1906 - val_acc: 0.9073\n",
      "Epoch 94/100\n",
      "15453/15453 [==============================] - 44s 3ms/step - loss: 0.1805 - acc: 0.9174 - val_loss: 0.1915 - val_acc: 0.9080\n",
      "Epoch 95/100\n",
      "15453/15453 [==============================] - 42s 3ms/step - loss: 0.1805 - acc: 0.9174 - val_loss: 0.1915 - val_acc: 0.9074\n",
      "Epoch 96/100\n",
      "15453/15453 [==============================] - 41s 3ms/step - loss: 0.1805 - acc: 0.9159 - val_loss: 0.1909 - val_acc: 0.9067\n",
      "Epoch 97/100\n",
      "15453/15453 [==============================] - 43s 3ms/step - loss: 0.1803 - acc: 0.9159 - val_loss: 0.1913 - val_acc: 0.9073\n",
      "Epoch 98/100\n",
      "15453/15453 [==============================] - 43s 3ms/step - loss: 0.1802 - acc: 0.9168 - val_loss: 0.1911 - val_acc: 0.9078\n",
      "Epoch 99/100\n",
      "15453/15453 [==============================] - 42s 3ms/step - loss: 0.1803 - acc: 0.9164 - val_loss: 0.1914 - val_acc: 0.9073\n",
      "Epoch 100/100\n",
      "15453/15453 [==============================] - 43s 3ms/step - loss: 0.1801 - acc: 0.9164 - val_loss: 0.1925 - val_acc: 0.9066\n"
     ]
    }
   ],
   "source": [
    "from sklearn.preprocessing import StandardScaler\n",
    "sc = StandardScaler()\n",
    "x_train = sc.fit_transform(x_train)\n",
    "x_test = sc.transform(x_test)\n",
    "\n",
    "# Part 2 - Now let's make the ANN!\n",
    "\n",
    "# Importing the Keras libraries and packages\n",
    "import keras\n",
    "from keras.models import Sequential\n",
    "from keras.layers import Dense\n",
    "from keras.layers import LeakyReLU,PReLU,ELU\n",
    "from keras.layers import Dropout\n",
    "\n",
    "\n",
    "# Initialising the ANN\n",
    "classifier = Sequential()\n",
    "\n",
    "# Adding the input layer and the first hidden layer\n",
    "classifier.add(Dense(output_dim = 6, init = 'he_uniform',activation='relu',input_dim =x_train.shape[1]))\n",
    "\n",
    "# Adding the second hidden layer\n",
    "classifier.add(Dense(output_dim = 6, init = 'he_uniform',activation='relu'))\n",
    "# Adding the output layer\n",
    "classifier.add(Dense(output_dim = 1, init = 'glorot_uniform', activation = 'sigmoid'))\n",
    "\n",
    "# Compiling the ANN\n",
    "classifier.compile(optimizer = 'Adamax', loss = 'binary_crossentropy', metrics = ['accuracy'])\n",
    "\n",
    "# Fitting the ANN to the Training set\n",
    "model_history=classifier.fit(x_train, y_train,validation_split=0.33, batch_size = 10, nb_epoch = 100)\n"
   ]
  },
  {
   "cell_type": "code",
   "execution_count": 700,
   "metadata": {},
   "outputs": [
    {
     "data": {
      "text/plain": [
       "array([[1.45582331e-03],\n",
       "       [1.15621805e-01],\n",
       "       [9.86363040e-04],\n",
       "       ...,\n",
       "       [1.13411009e-01],\n",
       "       [1.01187390e-04],\n",
       "       [2.82743156e-01]], dtype=float32)"
      ]
     },
     "execution_count": 700,
     "metadata": {},
     "output_type": "execute_result"
    }
   ],
   "source": [
    "classifier.predict(x_test)"
   ]
  },
  {
   "cell_type": "code",
   "execution_count": 701,
   "metadata": {},
   "outputs": [
    {
     "data": {
      "text/plain": [
       "0.7388109964191945"
      ]
     },
     "execution_count": 701,
     "metadata": {},
     "output_type": "execute_result"
    }
   ],
   "source": [
    "roc_auc_score(logr,y_test)"
   ]
  },
  {
   "cell_type": "code",
   "execution_count": null,
   "metadata": {},
   "outputs": [],
   "source": []
  },
  {
   "cell_type": "code",
   "execution_count": null,
   "metadata": {},
   "outputs": [],
   "source": []
  }
 ],
 "metadata": {
  "kernelspec": {
   "display_name": "Python 3",
   "language": "python",
   "name": "python3"
  },
  "language_info": {
   "codemirror_mode": {
    "name": "ipython",
    "version": 3
   },
   "file_extension": ".py",
   "mimetype": "text/x-python",
   "name": "python",
   "nbconvert_exporter": "python",
   "pygments_lexer": "ipython3",
   "version": "3.7.4"
  }
 },
 "nbformat": 4,
 "nbformat_minor": 2
}
